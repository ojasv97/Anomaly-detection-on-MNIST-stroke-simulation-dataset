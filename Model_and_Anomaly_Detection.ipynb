{
  "nbformat": 4,
  "nbformat_minor": 0,
  "metadata": {
    "colab": {
      "name": "ConvLSTM+Data.ipynb",
      "provenance": []
    },
    "kernelspec": {
      "name": "python3",
      "display_name": "Python 3"
    },
    "language_info": {
      "name": "python"
    },
    "accelerator": "GPU",
    "gpuClass": "standard"
  },
  "cells": [
    {
      "cell_type": "code",
      "execution_count": null,
      "metadata": {
        "id": "f1a8jFKwNV1u"
      },
      "outputs": [],
      "source": [
        "import numpy as np\n",
        "import matplotlib.pyplot as plt\n",
        "import tensorflow as tf\n",
        "from tensorflow import keras\n",
        "from keras import layers\n",
        "import io\n",
        "import imageio\n",
        "from IPython.display import Image, display\n",
        "from ipywidgets import widgets, Layout, HBox\n",
        "from __future__ import print_function, division\n",
        "from keras.datasets import mnist\n",
        "from keras.layers import Input, Dense, Reshape, Flatten, Dropout, multiply, GaussianNoise\n",
        "from keras.layers import BatchNormalization, Activation, Embedding, ZeroPadding2D\n",
        "from keras.layers import Concatenate\n",
        "from keras.layers.advanced_activations import LeakyReLU\n",
        "from keras.layers.convolutional import UpSampling2D, Conv2D, Conv2DTranspose\n",
        "from keras.models import Sequential, Model\n",
        "from tensorflow.keras.optimizers import Adam, RMSprop\n",
        "from keras import losses\n",
        "from keras.callbacks import TensorBoard\n",
        "from tensorflow.keras.utils import to_categorical\n",
        "import keras.backend as K\n",
        "import scipy\n",
        "import logging\n",
        "import matplotlib.pyplot as plt\n",
        "import os\n",
        "import imageio\n",
        "import numpy as np\n",
        "import pickle"
      ]
    },
    {
      "cell_type": "code",
      "source": [
        "\"\"\"Convolutional-recurrent GRU layer.\"\"\"\n",
        "\n",
        "import numpy as np\n",
        "\n",
        "from tensorflow.python.keras import activations\n",
        "from tensorflow.python.keras import backend\n",
        "from tensorflow.python.keras import constraints\n",
        "from tensorflow.python.keras import initializers\n",
        "from tensorflow.python.keras import regularizers\n",
        "from tensorflow.python.keras.engine.base_layer import Layer\n",
        "from tensorflow.python.keras.engine.input_spec import InputSpec\n",
        "from tensorflow.python.keras.layers.recurrent import DropoutRNNCellMixin\n",
        "from tensorflow.python.keras.layers.recurrent import RNN\n",
        "from tensorflow.python.keras.utils import conv_utils\n",
        "from tensorflow.python.keras.utils import generic_utils\n",
        "from tensorflow.python.keras.utils import tf_utils\n",
        "from tensorflow.python.ops import array_ops\n",
        "from tensorflow.python.util.tf_export import keras_export\n",
        "from tensorflow.python.keras.layers.convolutional_recurrent import ConvRNN2D\n",
        "\n",
        "class ConvGRU2DCell(DropoutRNNCellMixin, Layer):\n",
        "  def __init__(self,\n",
        "               filters,\n",
        "               kernel_size,\n",
        "               strides=(1, 1),\n",
        "               padding='valid',\n",
        "               data_format=None,\n",
        "               dilation_rate=(1, 1),\n",
        "               activation='tanh',\n",
        "               recurrent_activation='hard_sigmoid',\n",
        "               use_bias=True,\n",
        "               kernel_initializer='glorot_uniform',\n",
        "               recurrent_initializer='orthogonal',\n",
        "               bias_initializer='zeros',\n",
        "               kernel_regularizer=None,\n",
        "               recurrent_regularizer=None,\n",
        "               bias_regularizer=None,\n",
        "               kernel_constraint=None,\n",
        "               recurrent_constraint=None,\n",
        "               bias_constraint=None,\n",
        "               dropout=0.,\n",
        "               recurrent_dropout=0.,\n",
        "               **kwargs):\n",
        "    super(ConvGRU2DCell, self).__init__(**kwargs)\n",
        "    self.filters = filters\n",
        "    self.kernel_size = conv_utils.normalize_tuple(kernel_size, 2, 'kernel_size')\n",
        "    self.strides = conv_utils.normalize_tuple(strides, 2, 'strides')\n",
        "    self.padding = conv_utils.normalize_padding(padding)\n",
        "    self.data_format = conv_utils.normalize_data_format(data_format)\n",
        "    self.dilation_rate = conv_utils.normalize_tuple(dilation_rate, 2,\n",
        "                                                    'dilation_rate')\n",
        "    self.activation = activations.get(activation)\n",
        "    self.recurrent_activation = activations.get(recurrent_activation)\n",
        "    self.use_bias = use_bias\n",
        "\n",
        "    self.kernel_initializer = initializers.get(kernel_initializer)\n",
        "    self.recurrent_initializer = initializers.get(recurrent_initializer)\n",
        "    self.bias_initializer = initializers.get(bias_initializer)\n",
        "\n",
        "    self.kernel_regularizer = regularizers.get(kernel_regularizer)\n",
        "    self.recurrent_regularizer = regularizers.get(recurrent_regularizer)\n",
        "    self.bias_regularizer = regularizers.get(bias_regularizer)\n",
        "    \n",
        "    self.kernel_constraint = constraints.get(kernel_constraint)\n",
        "    self.recurrent_constraint = constraints.get(recurrent_constraint)\n",
        "    self.bias_constraint = constraints.get(bias_constraint)\n",
        "\n",
        "    self.dropout = min(1., max(0., dropout))\n",
        "    self.recurrent_dropout = min(1., max(0., recurrent_dropout))\n",
        "    self.state_size = (self.filters)\n",
        "\n",
        "  def build(self, input_shape):\n",
        "    if self.data_format == 'channels_first':\n",
        "      channel_axis = 1\n",
        "    else:\n",
        "      channel_axis = -1\n",
        "    if input_shape[channel_axis] is None:\n",
        "      raise ValueError('The channel dimension of the inputs '\n",
        "                       'should be defined. Found `None`.')\n",
        "    input_dim = input_shape[channel_axis]\n",
        "    kernel_shape = self.kernel_size + (input_dim, self.filters * 3)\n",
        "    self.kernel_shape = kernel_shape\n",
        "    recurrent_kernel_shape = self.kernel_size + (self.filters, self.filters * 3) \n",
        "\n",
        "    self.kernel = self.add_weight(shape=kernel_shape,\n",
        "                                  initializer=self.kernel_initializer,\n",
        "                                  name='kernel',\n",
        "                                  regularizer=self.kernel_regularizer,\n",
        "                                  constraint=self.kernel_constraint)\n",
        "    self.recurrent_kernel = self.add_weight(\n",
        "        shape=recurrent_kernel_shape,\n",
        "        initializer=self.recurrent_initializer,\n",
        "        name='recurrent_kernel',\n",
        "        regularizer=self.recurrent_regularizer,\n",
        "        constraint=self.recurrent_constraint)\n",
        "\n",
        "    if self.use_bias:\n",
        "        bias_initializer = self.bias_initializer\n",
        "        self.bias = self.add_weight(\n",
        "          shape=(self.filters * 3,),\n",
        "          name='bias',\n",
        "          initializer=bias_initializer,\n",
        "          regularizer=self.bias_regularizer,\n",
        "          constraint=self.bias_constraint)\n",
        "    else:\n",
        "        self.bias = None\n",
        "    self.built = True\n",
        "\n",
        "  def call(self, inputs, states, training=None):\n",
        "    h_tm1 = states[0]  # previous memory state\n",
        "\n",
        "    # dropout matrices for input units\n",
        "    dp_mask = self.get_dropout_mask_for_cell(inputs, training, count=3)\n",
        "    # dropout matrices for recurrent units\n",
        "    rec_dp_mask = self.get_recurrent_dropout_mask_for_cell(\n",
        "        h_tm1, training, count=3)\n",
        "\n",
        "    if 0 < self.dropout < 1.:\n",
        "      inputs_z = inputs * dp_mask[0]\n",
        "      inputs_r = inputs * dp_mask[1]\n",
        "      inputs_h = inputs * dp_mask[2]\n",
        "      \n",
        "    else:\n",
        "      inputs_z = inputs\n",
        "      inputs_r = inputs\n",
        "      inputs_h = inputs\n",
        "      \n",
        "\n",
        "    if 0 < self.recurrent_dropout < 1.:\n",
        "      h_tm1_z = h_tm1 * rec_dp_mask[0]\n",
        "      h_tm1_r = h_tm1 * rec_dp_mask[1]\n",
        "      h_tm1_h = h_tm1 * rec_dp_mask[2]\n",
        "      \n",
        "    else:\n",
        "      h_tm1_z = h_tm1\n",
        "      h_tm1_r = h_tm1\n",
        "      h_tm1_h = h_tm1\n",
        "\n",
        "    (kernel_z, kernel_r,\n",
        "     kernel_h) = array_ops.split(self.kernel, 3, axis=3)\n",
        "    (recurrent_kernel_z,\n",
        "     recurrent_kernel_r,\n",
        "     recurrent_kernel_h) = array_ops.split(self.recurrent_kernel, 3, axis=3)\n",
        "\n",
        "    if self.use_bias:\n",
        "      bias_z, bias_r, bias_h = array_ops.split(self.bias, 3)\n",
        "    else:\n",
        "      bias_z, bias_r, bias_h = None, None, None\n",
        "\n",
        "    x_z = self.input_conv(inputs_z, kernel_z, bias_z, padding=self.padding)\n",
        "    x_r = self.input_conv(inputs_r, kernel_r, bias_r, padding=self.padding)\n",
        "    x_h = self.input_conv(inputs_h, kernel_h, bias_h, padding=self.padding)\n",
        " \n",
        "    \n",
        "    h_z = self.recurrent_conv(h_tm1_z, recurrent_kernel_z)\n",
        "    h_r = self.recurrent_conv(h_tm1_r, recurrent_kernel_r)\n",
        "    h_h = self.recurrent_conv(h_tm1_h, recurrent_kernel_h)\n",
        "\n",
        "\n",
        "    z = self.recurrent_activation(x_z + h_z)\n",
        "    r = self.recurrent_activation(x_r + h_r)\n",
        "    \n",
        "    h = (1.0 - z) * h_tm1 + z * self.activation(x_h + h_h)\n",
        "    return h, [h]\n",
        "\n",
        "\n",
        "  def input_conv(self, x, w, b=None, padding='valid'):\n",
        "    conv_out = backend.conv2d(x, w, strides=self.strides,\n",
        "                              padding=padding,\n",
        "                              data_format=self.data_format,\n",
        "                              dilation_rate=self.dilation_rate)\n",
        "    if b is not None:\n",
        "      conv_out = backend.bias_add(conv_out, b,\n",
        "                                  data_format=self.data_format)\n",
        "    return conv_out\n",
        "\n",
        "  def recurrent_conv(self, x, w):\n",
        "    conv_out = backend.conv2d(x, w, strides=(1, 1),\n",
        "                              padding='same',\n",
        "                              data_format=self.data_format)\n",
        "    return conv_out\n",
        "\n",
        "  def get_config(self):\n",
        "    config = {'filters': self.filters,\n",
        "              'kernel_size': self.kernel_size,\n",
        "              'strides': self.strides,\n",
        "              'padding': self.padding,\n",
        "              'data_format': self.data_format,\n",
        "              'dilation_rate': self.dilation_rate,\n",
        "              'activation': activations.serialize(self.activation),\n",
        "              'recurrent_activation': activations.serialize(\n",
        "                  self.recurrent_activation),\n",
        "              'use_bias': self.use_bias,\n",
        "              'kernel_initializer': initializers.serialize(\n",
        "                  self.kernel_initializer),\n",
        "              'recurrent_initializer': initializers.serialize(\n",
        "                  self.recurrent_initializer),\n",
        "              'bias_initializer': initializers.serialize(self.bias_initializer),\n",
        "              'kernel_regularizer': regularizers.serialize(\n",
        "                  self.kernel_regularizer),\n",
        "              'recurrent_regularizer': regularizers.serialize(\n",
        "                  self.recurrent_regularizer),\n",
        "              'bias_regularizer': regularizers.serialize(self.bias_regularizer),\n",
        "              'kernel_constraint': constraints.serialize(\n",
        "                  self.kernel_constraint),\n",
        "              'recurrent_constraint': constraints.serialize(\n",
        "                  self.recurrent_constraint),\n",
        "              'bias_constraint': constraints.serialize(self.bias_constraint),\n",
        "              'dropout': self.dropout,\n",
        "              'recurrent_dropout': self.recurrent_dropout}\n",
        "    base_config = super(ConvGRU2DCell, self).get_config()\n",
        "    return dict(list(base_config.items()) + list(config.items()))\n",
        "\n",
        "\n",
        "class ConvGRU2D(ConvRNN2D):\n",
        "  \"\"\"\n",
        "  References:\n",
        "    - [Shi et al., 2015](http://arxiv.org/abs/1506.04214v1)\n",
        "    (the current implementation does not include the feedback loop on the\n",
        "    cells output).\n",
        "  Example:\n",
        "  ```python\n",
        "  steps = 10\n",
        "  height = 32\n",
        "  width = 32\n",
        "  input_channels = 3\n",
        "  output_channels = 6\n",
        "  inputs = tf.keras.Input(shape=(steps, height, width, input_channels))\n",
        "  layer = ConvGRU2D.ConvGRU2D(filters=output_channels, kernel_size=3)\n",
        "  outputs = layer(inputs)\n",
        "  ```\n",
        "  \"\"\"\n",
        "\n",
        "  def __init__(self,\n",
        "               filters,\n",
        "               kernel_size,\n",
        "               strides=(1, 1),\n",
        "               padding='valid',\n",
        "               data_format=None,\n",
        "               dilation_rate=(1, 1),\n",
        "               activation='tanh',\n",
        "               recurrent_activation='hard_sigmoid',\n",
        "               use_bias=True,\n",
        "               kernel_initializer='glorot_uniform',\n",
        "               recurrent_initializer='orthogonal',\n",
        "               bias_initializer='zeros',\n",
        "               kernel_regularizer=None,\n",
        "               recurrent_regularizer=None,\n",
        "               bias_regularizer=None,\n",
        "               activity_regularizer=None,\n",
        "               kernel_constraint=None,\n",
        "               recurrent_constraint=None,\n",
        "               bias_constraint=None,\n",
        "               return_sequences=False,\n",
        "               return_state=False,\n",
        "               go_backwards=False,\n",
        "               stateful=False,\n",
        "               dropout=0.,\n",
        "               recurrent_dropout=0.,\n",
        "               **kwargs):\n",
        "    cell = ConvGRU2DCell(filters=filters,\n",
        "                          kernel_size=kernel_size,\n",
        "                          strides=strides,\n",
        "                          padding=padding,\n",
        "                          data_format=data_format,\n",
        "                          dilation_rate=dilation_rate,\n",
        "                          activation=activation,\n",
        "                          recurrent_activation=recurrent_activation,\n",
        "                          use_bias=use_bias,\n",
        "                          kernel_initializer=kernel_initializer,\n",
        "                          recurrent_initializer=recurrent_initializer,\n",
        "                          bias_initializer=bias_initializer,\n",
        "                          kernel_regularizer=kernel_regularizer,\n",
        "                          recurrent_regularizer=recurrent_regularizer,\n",
        "                          bias_regularizer=bias_regularizer,\n",
        "                          kernel_constraint=kernel_constraint,\n",
        "                          recurrent_constraint=recurrent_constraint,\n",
        "                          bias_constraint=bias_constraint,\n",
        "                          dropout=dropout,\n",
        "                          recurrent_dropout=recurrent_dropout,\n",
        "                          dtype=kwargs.get('dtype'))\n",
        "    super(ConvGRU2D, self).__init__(cell,\n",
        "                                     return_sequences=return_sequences,\n",
        "                                     return_state=return_state,\n",
        "                                     go_backwards=go_backwards,\n",
        "                                     stateful=stateful,\n",
        "                                     **kwargs)\n",
        "    self.activity_regularizer = regularizers.get(activity_regularizer)\n",
        "\n",
        "  def call(self, inputs, mask=None, training=None, initial_state=None):\n",
        "    return super(ConvGRU2D, self).call(inputs,\n",
        "                                        mask=mask,\n",
        "                                        training=training,\n",
        "                                        initial_state=initial_state)\n",
        "\n",
        "  @property\n",
        "  def filters(self):\n",
        "    return self.cell.filters\n",
        "\n",
        "  @property\n",
        "  def kernel_size(self):\n",
        "    return self.cell.kernel_size\n",
        "\n",
        "  @property\n",
        "  def strides(self):\n",
        "    return self.cell.strides\n",
        "\n",
        "  @property\n",
        "  def padding(self):\n",
        "    return self.cell.padding\n",
        "\n",
        "  @property\n",
        "  def data_format(self):\n",
        "    return self.cell.data_format\n",
        "\n",
        "  @property\n",
        "  def dilation_rate(self):\n",
        "    return self.cell.dilation_rate\n",
        "\n",
        "  @property\n",
        "  def activation(self):\n",
        "    return self.cell.activation\n",
        "\n",
        "  @property\n",
        "  def recurrent_activation(self):\n",
        "    return self.cell.recurrent_activation\n",
        "\n",
        "  @property\n",
        "  def use_bias(self):\n",
        "    return self.cell.use_bias\n",
        "\n",
        "  @property\n",
        "  def kernel_initializer(self):\n",
        "    return self.cell.kernel_initializer\n",
        "\n",
        "  @property\n",
        "  def recurrent_initializer(self):\n",
        "    return self.cell.recurrent_initializer\n",
        "\n",
        "  @property\n",
        "  def bias_initializer(self):\n",
        "    return self.cell.bias_initializer\n",
        "\n",
        "  @property\n",
        "  def kernel_regularizer(self):\n",
        "    return self.cell.kernel_regularizer\n",
        "\n",
        "  @property\n",
        "  def recurrent_regularizer(self):\n",
        "    return self.cell.recurrent_regularizer\n",
        "\n",
        "  @property\n",
        "  def bias_regularizer(self):\n",
        "    return self.cell.bias_regularizer\n",
        "\n",
        "  @property\n",
        "  def kernel_constraint(self):\n",
        "    return self.cell.kernel_constraint\n",
        "\n",
        "  @property\n",
        "  def recurrent_constraint(self):\n",
        "    return self.cell.recurrent_constraint\n",
        "\n",
        "  @property\n",
        "  def bias_constraint(self):\n",
        "    return self.cell.bias_constraint\n",
        "\n",
        "  @property\n",
        "  def dropout(self):\n",
        "    return self.cell.dropout\n",
        "\n",
        "  @property\n",
        "  def recurrent_dropout(self):\n",
        "    return self.cell.recurrent_dropout\n",
        "\n",
        "  def get_config(self):\n",
        "    config = {'filters': self.filters,\n",
        "              'kernel_size': self.kernel_size,\n",
        "              'strides': self.strides,\n",
        "              'padding': self.padding,\n",
        "              'data_format': self.data_format,\n",
        "              'dilation_rate': self.dilation_rate,\n",
        "              'activation': activations.serialize(self.activation),\n",
        "              'recurrent_activation': activations.serialize(\n",
        "                  self.recurrent_activation),\n",
        "              'use_bias': self.use_bias,\n",
        "              'kernel_initializer': initializers.serialize(\n",
        "                  self.kernel_initializer),\n",
        "              'recurrent_initializer': initializers.serialize(\n",
        "                  self.recurrent_initializer),\n",
        "              'bias_initializer': initializers.serialize(self.bias_initializer),\n",
        "              'kernel_regularizer': regularizers.serialize(\n",
        "                  self.kernel_regularizer),\n",
        "              'recurrent_regularizer': regularizers.serialize(\n",
        "                  self.recurrent_regularizer),\n",
        "              'bias_regularizer': regularizers.serialize(self.bias_regularizer),\n",
        "              'activity_regularizer': regularizers.serialize(\n",
        "                  self.activity_regularizer),\n",
        "              'kernel_constraint': constraints.serialize(\n",
        "                  self.kernel_constraint),\n",
        "              'recurrent_constraint': constraints.serialize(\n",
        "                  self.recurrent_constraint),\n",
        "              'bias_constraint': constraints.serialize(self.bias_constraint),\n",
        "              'dropout': self.dropout,\n",
        "              'recurrent_dropout': self.recurrent_dropout}\n",
        "    base_config = super(ConvGRU2D, self).get_config()\n",
        "    del base_config['cell']\n",
        "    return dict(list(base_config.items()) + list(config.items()))\n",
        "\n",
        "  @classmethod\n",
        "  def from_config(cls, config):\n",
        "    return cls(**config)"
      ],
      "metadata": {
        "id": "17zxa-gpDw45"
      },
      "execution_count": null,
      "outputs": []
    },
    {
      "cell_type": "code",
      "source": [
        "%matplotlib inline\n",
        "%config InlineBackend.figure_format = 'retina'\n",
        "dataset = np.load('/content/drive/My Drive/Dataset/data.npy')\n",
        "dataset = np.expand_dims(dataset, axis=-1)\n",
        "dataset.shape"
      ],
      "metadata": {
        "colab": {
          "base_uri": "https://localhost:8080/"
        },
        "id": "mwIXsvBF6xXG",
        "outputId": "293a3213-13d8-45d2-d549-9aa9128a11c7"
      },
      "execution_count": null,
      "outputs": [
        {
          "output_type": "execute_result",
          "data": {
            "text/plain": [
              "(12638, 8, 28, 28, 1)"
            ]
          },
          "metadata": {},
          "execution_count": 19
        }
      ]
    },
    {
      "cell_type": "code",
      "source": [
        "%matplotlib inline\n",
        "%config InlineBackend.figure_format = 'retina'\n",
        "test_data = np.load('/content/drive/My Drive/Dataset/data_test_full.npy')\n",
        "test_data = np.expand_dims(test_data, axis=-1)\n",
        "test_data.shape"
      ],
      "metadata": {
        "colab": {
          "base_uri": "https://localhost:8080/"
        },
        "id": "dR4fsyYGt7Oz",
        "outputId": "befd8ecf-f1a2-4d28-df35-8781a95ae57e"
      },
      "execution_count": null,
      "outputs": [
        {
          "output_type": "execute_result",
          "data": {
            "text/plain": [
              "(10000, 8, 28, 28, 1)"
            ]
          },
          "metadata": {},
          "execution_count": 20
        }
      ]
    },
    {
      "cell_type": "code",
      "source": [
        "def generate_noise():\n",
        "  row = 28\n",
        "  col = 28\n",
        "  ch = 1\n",
        "  mean = 0\n",
        "  var = 0.1\n",
        "  sigma = var**0.5\n",
        "  l = np.arange(4,8)\n",
        "  random_index = []\n",
        "  random_index.append(np.random.choice(l))\n",
        "  l = np.setdiff1d(l,random_index)\n",
        "  random_index.append(np.random.choice(l))\n",
        "  gauss = np.random.normal(mean,sigma,(row,col,ch))\n",
        "  gauss = gauss.reshape(row,col,ch)\n",
        "  return random_index, gauss"
      ],
      "metadata": {
        "id": "VLOmx8yFRWcH"
      },
      "execution_count": null,
      "outputs": []
    },
    {
      "cell_type": "code",
      "source": [
        "# Split into train and validation sets using indexing to optimize memory.\n",
        "test_index = np.arange(test_data.shape[0])\n",
        "np.random.shuffle(test_index)\n",
        "test_dataset = test_data[test_index]\n",
        "\n",
        "# Normalize the data to the 0-1 range.\n",
        "test_dataset = test_dataset / 255\n",
        "\n",
        "# We'll define a helper function to shift the frames, where\n",
        "# `x` is frames 0 to n - 1, and `y` is frames 1 to n.\n",
        "def create_shifted_frames(data):\n",
        "    x = data[:, 0 : data.shape[1] - 1, :, :]\n",
        "    y = data[:, 1 : data.shape[1], :, :]\n",
        "    return x, y\n",
        "\n",
        "\n",
        "# Apply the processing function to the datasets.\n",
        "x_test, y_test = create_shifted_frames(test_dataset)\n",
        "\n",
        "# Inspect the dataset.\n",
        "print(\"Testing Dataset Shapes: \" + str(x_test.shape) + \", \" + str(y_test.shape))"
      ],
      "metadata": {
        "colab": {
          "base_uri": "https://localhost:8080/"
        },
        "id": "Jp5QXvEluJcf",
        "outputId": "dbbf1865-0d18-419a-dd5d-2bded8dc368e"
      },
      "execution_count": null,
      "outputs": [
        {
          "output_type": "stream",
          "name": "stdout",
          "text": [
            "Testing Dataset Shapes: (10000, 7, 28, 28, 1), (10000, 7, 28, 28, 1)\n"
          ]
        }
      ]
    },
    {
      "cell_type": "code",
      "execution_count": null,
      "metadata": {
        "colab": {
          "base_uri": "https://localhost:8080/"
        },
        "id": "BolTu-DLNWM9",
        "outputId": "d663a833-d615-4f99-eb12-d6211779d385"
      },
      "outputs": [
        {
          "output_type": "stream",
          "name": "stdout",
          "text": [
            "Training Dataset Shapes: (8846, 7, 28, 28, 1), (8846, 7, 28, 28, 1)\n",
            "Validation Dataset Shapes: (3792, 7, 28, 28, 1), (3792, 7, 28, 28, 1)\n"
          ]
        }
      ],
      "source": [
        "indexes = np.arange(dataset.shape[0])\n",
        "np.random.shuffle(indexes)\n",
        "train_index = indexes[: int(0.7 * dataset.shape[0])]\n",
        "val_index = indexes[int(0.7 * dataset.shape[0]) :]\n",
        "train_dataset = dataset[train_index]\n",
        "val_dataset = dataset[val_index]\n",
        "\n",
        "# Normalize the data to the 0-1 range.\n",
        "train_dataset = train_dataset / 255\n",
        "val_dataset = val_dataset / 255\n",
        "\n",
        "# We'll define a helper function to shift the frames, where\n",
        "# `x` is frames 0 to n - 1, and `y` is frames 1 to n.\n",
        "def create_shifted_frames(data):\n",
        "    x = data[:, 0 : data.shape[1] - 1, :, :]\n",
        "    y = data[:, 1 : data.shape[1], :, :]\n",
        "    return x, y\n",
        "\n",
        "\n",
        "# Apply the processing function to the datasets.\n",
        "x_train, y_train = create_shifted_frames(train_dataset)\n",
        "x_val, y_val = create_shifted_frames(val_dataset)\n",
        "\n",
        "# Inspect the dataset.\n",
        "print(\"Training Dataset Shapes: \" + str(x_train.shape) + \", \" + str(y_train.shape))\n",
        "print(\"Validation Dataset Shapes: \" + str(x_val.shape) + \", \" + str(y_val.shape))"
      ]
    },
    {
      "cell_type": "code",
      "source": [
        "#Noising the dataset\n",
        "test_dataset_noise = test_dataset.copy()\n",
        "noise_index = []\n",
        "for i in range(len(test_dataset_noise)):\n",
        "  random_index, gauss = generate_noise()\n",
        "  test_dataset_noise[i][random_index] = gauss + test_dataset_noise[i][random_index]\n",
        "  noise_index.append(random_index)\n",
        "\n",
        "test_dataset_noise = test_dataset_noise / 2\n",
        "# Apply the processing function to the datasets.\n",
        "x_noise, y_noise = create_shifted_frames(test_dataset_noise)\n",
        "\n",
        "# Inspect the dataset.\n",
        "print(\"Noise Dataset Shapes: \" + str(x_noise.shape) + \", \" + str(y_noise.shape))"
      ],
      "metadata": {
        "colab": {
          "base_uri": "https://localhost:8080/"
        },
        "id": "Wt3b56k1ww1u",
        "outputId": "fb410b76-d05a-43d5-84cf-6ac6cdae2846"
      },
      "execution_count": null,
      "outputs": [
        {
          "output_type": "stream",
          "name": "stdout",
          "text": [
            "Noise Dataset Shapes: (10000, 7, 28, 28, 1), (10000, 7, 28, 28, 1)\n"
          ]
        }
      ]
    },
    {
      "cell_type": "code",
      "source": [
        "np.save(\"x_train\", x_train)\n",
        "np.save(\"y_train\", y_train)\n",
        "np.save(\"x_val\", x_val)\n",
        "np.save(\"y_val\", y_val)\n",
        "np.save(\"train_dataset\", train_dataset)\n",
        "np.save(\"val_dataset\", val_dataset)"
      ],
      "metadata": {
        "id": "xDMYiJyg77Tb",
        "colab": {
          "base_uri": "https://localhost:8080/",
          "height": 415
        },
        "outputId": "7e65267d-30ba-4691-f0e6-82ea013249c8"
      },
      "execution_count": null,
      "outputs": [
        {
          "output_type": "error",
          "ename": "KeyboardInterrupt",
          "evalue": "ignored",
          "traceback": [
            "\u001b[0;31m---------------------------------------------------------------------------\u001b[0m",
            "\u001b[0;31mKeyboardInterrupt\u001b[0m                         Traceback (most recent call last)",
            "\u001b[0;32m<ipython-input-14-c097b1ea6e8f>\u001b[0m in \u001b[0;36m<module>\u001b[0;34m()\u001b[0m\n\u001b[0;32m----> 1\u001b[0;31m \u001b[0mnp\u001b[0m\u001b[0;34m.\u001b[0m\u001b[0msave\u001b[0m\u001b[0;34m(\u001b[0m\u001b[0;34m\"x_train\"\u001b[0m\u001b[0;34m,\u001b[0m \u001b[0mx_train\u001b[0m\u001b[0;34m)\u001b[0m\u001b[0;34m\u001b[0m\u001b[0;34m\u001b[0m\u001b[0m\n\u001b[0m\u001b[1;32m      2\u001b[0m \u001b[0mnp\u001b[0m\u001b[0;34m.\u001b[0m\u001b[0msave\u001b[0m\u001b[0;34m(\u001b[0m\u001b[0;34m\"y_train\"\u001b[0m\u001b[0;34m,\u001b[0m \u001b[0my_train\u001b[0m\u001b[0;34m)\u001b[0m\u001b[0;34m\u001b[0m\u001b[0;34m\u001b[0m\u001b[0m\n\u001b[1;32m      3\u001b[0m \u001b[0mnp\u001b[0m\u001b[0;34m.\u001b[0m\u001b[0msave\u001b[0m\u001b[0;34m(\u001b[0m\u001b[0;34m\"x_val\"\u001b[0m\u001b[0;34m,\u001b[0m \u001b[0mx_val\u001b[0m\u001b[0;34m)\u001b[0m\u001b[0;34m\u001b[0m\u001b[0;34m\u001b[0m\u001b[0m\n\u001b[1;32m      4\u001b[0m \u001b[0mnp\u001b[0m\u001b[0;34m.\u001b[0m\u001b[0msave\u001b[0m\u001b[0;34m(\u001b[0m\u001b[0;34m\"y_val\"\u001b[0m\u001b[0;34m,\u001b[0m \u001b[0my_val\u001b[0m\u001b[0;34m)\u001b[0m\u001b[0;34m\u001b[0m\u001b[0;34m\u001b[0m\u001b[0m\n\u001b[1;32m      5\u001b[0m \u001b[0mnp\u001b[0m\u001b[0;34m.\u001b[0m\u001b[0msave\u001b[0m\u001b[0;34m(\u001b[0m\u001b[0;34m\"train_dataset\"\u001b[0m\u001b[0;34m,\u001b[0m \u001b[0mtrain_dataset\u001b[0m\u001b[0;34m)\u001b[0m\u001b[0;34m\u001b[0m\u001b[0;34m\u001b[0m\u001b[0m\n",
            "\u001b[0;32m<__array_function__ internals>\u001b[0m in \u001b[0;36msave\u001b[0;34m(*args, **kwargs)\u001b[0m\n",
            "\u001b[0;32m/usr/local/lib/python3.7/dist-packages/numpy/lib/npyio.py\u001b[0m in \u001b[0;36msave\u001b[0;34m(file, arr, allow_pickle, fix_imports)\u001b[0m\n\u001b[1;32m    528\u001b[0m         \u001b[0marr\u001b[0m \u001b[0;34m=\u001b[0m \u001b[0mnp\u001b[0m\u001b[0;34m.\u001b[0m\u001b[0masanyarray\u001b[0m\u001b[0;34m(\u001b[0m\u001b[0marr\u001b[0m\u001b[0;34m)\u001b[0m\u001b[0;34m\u001b[0m\u001b[0;34m\u001b[0m\u001b[0m\n\u001b[1;32m    529\u001b[0m         format.write_array(fid, arr, allow_pickle=allow_pickle,\n\u001b[0;32m--> 530\u001b[0;31m                            pickle_kwargs=dict(fix_imports=fix_imports))\n\u001b[0m\u001b[1;32m    531\u001b[0m \u001b[0;34m\u001b[0m\u001b[0m\n\u001b[1;32m    532\u001b[0m \u001b[0;34m\u001b[0m\u001b[0m\n",
            "\u001b[0;32m/usr/local/lib/python3.7/dist-packages/numpy/lib/format.py\u001b[0m in \u001b[0;36mwrite_array\u001b[0;34m(fp, array, version, allow_pickle, pickle_kwargs)\u001b[0m\n\u001b[1;32m    689\u001b[0m     \u001b[0;32melse\u001b[0m\u001b[0;34m:\u001b[0m\u001b[0;34m\u001b[0m\u001b[0;34m\u001b[0m\u001b[0m\n\u001b[1;32m    690\u001b[0m         \u001b[0;32mif\u001b[0m \u001b[0misfileobj\u001b[0m\u001b[0;34m(\u001b[0m\u001b[0mfp\u001b[0m\u001b[0;34m)\u001b[0m\u001b[0;34m:\u001b[0m\u001b[0;34m\u001b[0m\u001b[0;34m\u001b[0m\u001b[0m\n\u001b[0;32m--> 691\u001b[0;31m             \u001b[0marray\u001b[0m\u001b[0;34m.\u001b[0m\u001b[0mtofile\u001b[0m\u001b[0;34m(\u001b[0m\u001b[0mfp\u001b[0m\u001b[0;34m)\u001b[0m\u001b[0;34m\u001b[0m\u001b[0;34m\u001b[0m\u001b[0m\n\u001b[0m\u001b[1;32m    692\u001b[0m         \u001b[0;32melse\u001b[0m\u001b[0;34m:\u001b[0m\u001b[0;34m\u001b[0m\u001b[0;34m\u001b[0m\u001b[0m\n\u001b[1;32m    693\u001b[0m             for chunk in numpy.nditer(\n",
            "\u001b[0;31mKeyboardInterrupt\u001b[0m: "
          ]
        }
      ]
    },
    {
      "cell_type": "code",
      "source": [
        "np.save(\"x_train_GRU\", x_train)\n",
        "np.save(\"y_train_GRU\", y_train)\n",
        "np.save(\"x_val_GRU\", x_val)\n",
        "np.save(\"y_val_GRU\", y_val)\n",
        "np.save(\"train_dataset_GRU\", train_dataset)\n",
        "np.save(\"val_dataset_GRU\", val_dataset)"
      ],
      "metadata": {
        "id": "m3SCRkQFWn-c"
      },
      "execution_count": null,
      "outputs": []
    },
    {
      "cell_type": "code",
      "source": [
        "x_train = np.load('/content/drive/My Drive/Dataset/x_train.npy')\n",
        "y_train = np.load('/content/drive/My Drive/Dataset/y_train.npy')\n",
        "x_val = np.load('/content/drive/My Drive/Dataset/x_val.npy')\n",
        "y_val = np.load('/content/drive/My Drive/Dataset/y_val.npy')\n",
        "train_dataset = np.load('/content/drive/My Drive/Dataset/train_dataset.npy')\n",
        "val_dataset = np.load('/content/drive/My Drive/Dataset/val_dataset.npy')"
      ],
      "metadata": {
        "id": "fSB-QhOrMAP7",
        "colab": {
          "base_uri": "https://localhost:8080/",
          "height": 374
        },
        "outputId": "526ef34d-cb14-4583-dc7d-f96b8f8cc443"
      },
      "execution_count": null,
      "outputs": [
        {
          "output_type": "error",
          "ename": "KeyboardInterrupt",
          "evalue": "ignored",
          "traceback": [
            "\u001b[0;31m---------------------------------------------------------------------------\u001b[0m",
            "\u001b[0;31mKeyboardInterrupt\u001b[0m                         Traceback (most recent call last)",
            "\u001b[0;32m<ipython-input-7-0d7285995550>\u001b[0m in \u001b[0;36m<module>\u001b[0;34m()\u001b[0m\n\u001b[1;32m      2\u001b[0m \u001b[0my_train\u001b[0m \u001b[0;34m=\u001b[0m \u001b[0mnp\u001b[0m\u001b[0;34m.\u001b[0m\u001b[0mload\u001b[0m\u001b[0;34m(\u001b[0m\u001b[0;34m'/content/drive/My Drive/Dataset/y_train.npy'\u001b[0m\u001b[0;34m)\u001b[0m\u001b[0;34m\u001b[0m\u001b[0;34m\u001b[0m\u001b[0m\n\u001b[1;32m      3\u001b[0m \u001b[0mx_val\u001b[0m \u001b[0;34m=\u001b[0m \u001b[0mnp\u001b[0m\u001b[0;34m.\u001b[0m\u001b[0mload\u001b[0m\u001b[0;34m(\u001b[0m\u001b[0;34m'/content/drive/My Drive/Dataset/x_val.npy'\u001b[0m\u001b[0;34m)\u001b[0m\u001b[0;34m\u001b[0m\u001b[0;34m\u001b[0m\u001b[0m\n\u001b[0;32m----> 4\u001b[0;31m \u001b[0my_val\u001b[0m \u001b[0;34m=\u001b[0m \u001b[0mnp\u001b[0m\u001b[0;34m.\u001b[0m\u001b[0mload\u001b[0m\u001b[0;34m(\u001b[0m\u001b[0;34m'/content/drive/My Drive/Dataset/y_val.npy'\u001b[0m\u001b[0;34m)\u001b[0m\u001b[0;34m\u001b[0m\u001b[0;34m\u001b[0m\u001b[0m\n\u001b[0m\u001b[1;32m      5\u001b[0m \u001b[0mtrain_dataset\u001b[0m \u001b[0;34m=\u001b[0m \u001b[0mnp\u001b[0m\u001b[0;34m.\u001b[0m\u001b[0mload\u001b[0m\u001b[0;34m(\u001b[0m\u001b[0;34m'/content/drive/My Drive/Dataset/train_dataset.npy'\u001b[0m\u001b[0;34m)\u001b[0m\u001b[0;34m\u001b[0m\u001b[0;34m\u001b[0m\u001b[0m\n\u001b[1;32m      6\u001b[0m \u001b[0mval_dataset\u001b[0m \u001b[0;34m=\u001b[0m \u001b[0mnp\u001b[0m\u001b[0;34m.\u001b[0m\u001b[0mload\u001b[0m\u001b[0;34m(\u001b[0m\u001b[0;34m'/content/drive/My Drive/Dataset/val_dataset.npy'\u001b[0m\u001b[0;34m)\u001b[0m\u001b[0;34m\u001b[0m\u001b[0;34m\u001b[0m\u001b[0m\n",
            "\u001b[0;32m/usr/local/lib/python3.7/dist-packages/numpy/lib/npyio.py\u001b[0m in \u001b[0;36mload\u001b[0;34m(file, mmap_mode, allow_pickle, fix_imports, encoding)\u001b[0m\n\u001b[1;32m    422\u001b[0m         \u001b[0m_ZIP_SUFFIX\u001b[0m \u001b[0;34m=\u001b[0m \u001b[0;34mb'PK\\x05\\x06'\u001b[0m \u001b[0;31m# empty zip files start with this\u001b[0m\u001b[0;34m\u001b[0m\u001b[0;34m\u001b[0m\u001b[0m\n\u001b[1;32m    423\u001b[0m         \u001b[0mN\u001b[0m \u001b[0;34m=\u001b[0m \u001b[0mlen\u001b[0m\u001b[0;34m(\u001b[0m\u001b[0mformat\u001b[0m\u001b[0;34m.\u001b[0m\u001b[0mMAGIC_PREFIX\u001b[0m\u001b[0;34m)\u001b[0m\u001b[0;34m\u001b[0m\u001b[0;34m\u001b[0m\u001b[0m\n\u001b[0;32m--> 424\u001b[0;31m         \u001b[0mmagic\u001b[0m \u001b[0;34m=\u001b[0m \u001b[0mfid\u001b[0m\u001b[0;34m.\u001b[0m\u001b[0mread\u001b[0m\u001b[0;34m(\u001b[0m\u001b[0mN\u001b[0m\u001b[0;34m)\u001b[0m\u001b[0;34m\u001b[0m\u001b[0;34m\u001b[0m\u001b[0m\n\u001b[0m\u001b[1;32m    425\u001b[0m         \u001b[0;31m# If the file size is less than N, we need to make sure not\u001b[0m\u001b[0;34m\u001b[0m\u001b[0;34m\u001b[0m\u001b[0;34m\u001b[0m\u001b[0m\n\u001b[1;32m    426\u001b[0m         \u001b[0;31m# to seek past the beginning of the file\u001b[0m\u001b[0;34m\u001b[0m\u001b[0;34m\u001b[0m\u001b[0;34m\u001b[0m\u001b[0m\n",
            "\u001b[0;31mKeyboardInterrupt\u001b[0m: "
          ]
        }
      ]
    },
    {
      "cell_type": "code",
      "source": [
        "with open('/content/drive/My Drive/Dataset/model.pkl', 'rb') as f:\n",
        "    model = pickle.load(f)"
      ],
      "metadata": {
        "id": "B8CYY3wO6mlG"
      },
      "execution_count": null,
      "outputs": []
    },
    {
      "cell_type": "code",
      "execution_count": null,
      "metadata": {
        "colab": {
          "base_uri": "https://localhost:8080/",
          "height": 422
        },
        "id": "D2DNPGTpNag_",
        "outputId": "a895535c-c7b1-4aa9-bcf8-efdfe9cdc453"
      },
      "outputs": [
        {
          "output_type": "stream",
          "name": "stdout",
          "text": [
            "Displaying frames for example 588.\n"
          ]
        },
        {
          "output_type": "display_data",
          "data": {
            "text/plain": [
              "<Figure size 720x576 with 8 Axes>"
            ],
            "image/png": "[encoded data removed]"
          },
          "metadata": {
            "image/png": {
              "width": 572,
              "height": 388
            },
            "needs_background": "light"
          }
        }
      ],
      "source": [
        "# Construct a figure on which we will visualize the images.\n",
        "fig, axes = plt.subplots(2, 4, figsize=(10, 8))\n",
        "random_index, gauss = generate_noise()\n",
        "# Plot each of the sequential images for one random data example.\n",
        "data_choice = np.random.choice(range(len(train_dataset)), size=1)[0]\n",
        "d = train_dataset[data_choice]\n",
        "d[random_index] = gauss+d[random_index]\n",
        "for idx, ax in enumerate(axes.flat):\n",
        "    ax.imshow(np.squeeze(d[idx]), cmap=\"gray\")\n",
        "    ax.set_title(f\"Frame {idx + 1}\")\n",
        "    ax.axis(\"off\")\n",
        "\n",
        "# Print information and display the figure.\n",
        "print(f\"Displaying frames for example {data_choice}.\")\n",
        "plt.show()"
      ]
    },
    {
      "cell_type": "code",
      "execution_count": null,
      "metadata": {
        "id": "oBOjdAH7NgL4",
        "colab": {
          "base_uri": "https://localhost:8080/"
        },
        "outputId": "75327934-1792-419e-caf9-7218642aa46e"
      },
      "outputs": [
        {
          "output_type": "stream",
          "name": "stdout",
          "text": [
            "WARNING:tensorflow:The following Variables were used in a Lambda layer's call (tf.keras.backend.rnn), but are not present in its tracked objects:   <tf.Variable 'conv_gr_u2d/kernel:0' shape=(3, 3, 64, 192) dtype=float32>\n",
            "  <tf.Variable 'conv_gr_u2d/recurrent_kernel:0' shape=(3, 3, 64, 192) dtype=float32>\n",
            "  <tf.Variable 'conv_gr_u2d/bias:0' shape=(192,) dtype=float32>. This is a strong indication that the Lambda layer should be rewritten as a subclassed Layer.\n",
            "WARNING:tensorflow:The following Variables were used in a Lambda layer's call (tf.keras.backend.rnn_1), but are not present in its tracked objects:   <tf.Variable 'conv_gr_u2d_1/kernel:0' shape=(3, 3, 64, 96) dtype=float32>\n",
            "  <tf.Variable 'conv_gr_u2d_1/recurrent_kernel:0' shape=(3, 3, 32, 96) dtype=float32>\n",
            "  <tf.Variable 'conv_gr_u2d_1/bias:0' shape=(96,) dtype=float32>. This is a strong indication that the Lambda layer should be rewritten as a subclassed Layer.\n",
            "WARNING:tensorflow:The following Variables were used in a Lambda layer's call (tf.keras.backend.rnn_2), but are not present in its tracked objects:   <tf.Variable 'conv_gr_u2d_2/kernel:0' shape=(3, 3, 32, 192) dtype=float32>\n",
            "  <tf.Variable 'conv_gr_u2d_2/recurrent_kernel:0' shape=(3, 3, 64, 192) dtype=float32>\n",
            "  <tf.Variable 'conv_gr_u2d_2/bias:0' shape=(192,) dtype=float32>. This is a strong indication that the Lambda layer should be rewritten as a subclassed Layer.\n",
            "Model: \"model\"\n",
            "__________________________________________________________________________________________________\n",
            " Layer (type)                   Output Shape         Param #     Connected to                     \n",
            "==================================================================================================\n",
            " input_1 (InputLayer)           [(None, None, 28, 2  0           []                               \n",
            "                                8, 1)]                                                            \n",
            "                                                                                                  \n",
            " time_distributed (TimeDistribu  (None, None, 14, 14  15616      ['input_1[0][0]']                \n",
            " ted)                           , 128)                                                            \n",
            "                                                                                                  \n",
            " layer_normalization (LayerNorm  (None, None, 14, 14  256        ['time_distributed[0][0]']       \n",
            " alization)                     , 128)                                                            \n",
            "                                                                                                  \n",
            " time_distributed_1 (TimeDistri  (None, None, 7, 7,   204864     ['layer_normalization[0][0]']    \n",
            " buted)                         64)                                                               \n",
            "                                                                                                  \n",
            " layer_normalization_1 (LayerNo  (None, None, 7, 7,   128        ['time_distributed_1[0][0]']     \n",
            " rmalization)                   64)                                                               \n",
            "                                                                                                  \n",
            " tf.compat.v1.zeros_like (TFOpL  (None, None, 7, 7,   0          ['layer_normalization_1[0][0]']  \n",
            " ambda)                         64)                                                               \n",
            "                                                                                                  \n",
            " tf.math.reduce_sum (TFOpLambda  (None, 7, 7, 64)    0           ['tf.compat.v1.zeros_like[0][0]']\n",
            " )                                                                                                \n",
            "                                                                                                  \n",
            " tf.compat.v1.nn.convolution (T  (None, 7, 7, 64)    0           ['tf.math.reduce_sum[0][0]']     \n",
            " FOpLambda)                                                                                       \n",
            "                                                                                                  \n",
            " tf.keras.backend.rnn (TFOpLamb  ((None, 7, 7, 64),  0           ['layer_normalization_1[0][0]',  \n",
            " da)                             (None, None, 7, 7,               'tf.compat.v1.nn.convolution[0][\n",
            "                                 64),                            0]']                             \n",
            "                                 ((None, 7, 7, 64),                                               \n",
            "                                ))                                                                \n",
            "                                                                                                  \n",
            " layer_normalization_2 (LayerNo  (None, None, 7, 7,   128        ['tf.keras.backend.rnn[0][1]']   \n",
            " rmalization)                   64)                                                               \n",
            "                                                                                                  \n",
            " tf.compat.v1.zeros_like_1 (TFO  (None, None, 7, 7,   0          ['layer_normalization_2[0][0]']  \n",
            " pLambda)                       64)                                                               \n",
            "                                                                                                  \n",
            " tf.math.reduce_sum_1 (TFOpLamb  (None, 7, 7, 64)    0           ['tf.compat.v1.zeros_like_1[0][0]\n",
            " da)                                                             ']                               \n",
            "                                                                                                  \n",
            " tf.compat.v1.nn.convolution_1   (None, 7, 7, 32)    0           ['tf.math.reduce_sum_1[0][0]']   \n",
            " (TFOpLambda)                                                                                     \n",
            "                                                                                                  \n",
            " tf.keras.backend.rnn_1 (TFOpLa  ((None, 7, 7, 32),  0           ['layer_normalization_2[0][0]',  \n",
            " mbda)                           (None, None, 7, 7,               'tf.compat.v1.nn.convolution_1[0\n",
            "                                 32),                            ][0]']                           \n",
            "                                 ((None, 7, 7, 32),                                               \n",
            "                                ))                                                                \n",
            "                                                                                                  \n",
            " layer_normalization_3 (LayerNo  (None, None, 7, 7,   64         ['tf.keras.backend.rnn_1[0][1]'] \n",
            " rmalization)                   32)                                                               \n",
            "                                                                                                  \n",
            " tf.compat.v1.zeros_like_2 (TFO  (None, None, 7, 7,   0          ['layer_normalization_3[0][0]']  \n",
            " pLambda)                       32)                                                               \n",
            "                                                                                                  \n",
            " tf.math.reduce_sum_2 (TFOpLamb  (None, 7, 7, 32)    0           ['tf.compat.v1.zeros_like_2[0][0]\n",
            " da)                                                             ']                               \n",
            "                                                                                                  \n",
            " tf.compat.v1.nn.convolution_2   (None, 7, 7, 64)    0           ['tf.math.reduce_sum_2[0][0]']   \n",
            " (TFOpLambda)                                                                                     \n",
            "                                                                                                  \n",
            " tf.keras.backend.rnn_2 (TFOpLa  ((None, 7, 7, 64),  0           ['layer_normalization_3[0][0]',  \n",
            " mbda)                           (None, None, 7, 7,               'tf.compat.v1.nn.convolution_2[0\n",
            "                                 64),                            ][0]']                           \n",
            "                                 ((None, 7, 7, 64),                                               \n",
            "                                ))                                                                \n",
            "                                                                                                  \n",
            " layer_normalization_4 (LayerNo  (None, None, 7, 7,   128        ['tf.keras.backend.rnn_2[0][1]'] \n",
            " rmalization)                   64)                                                               \n",
            "                                                                                                  \n",
            " time_distributed_2 (TimeDistri  (None, None, 14, 14  102464     ['layer_normalization_4[0][0]']  \n",
            " buted)                         , 64)                                                             \n",
            "                                                                                                  \n",
            " layer_normalization_5 (LayerNo  (None, None, 14, 14  128        ['time_distributed_2[0][0]']     \n",
            " rmalization)                   , 64)                                                             \n",
            "                                                                                                  \n",
            " time_distributed_3 (TimeDistri  (None, None, 28, 28  991360     ['layer_normalization_5[0][0]']  \n",
            " buted)                         , 128)                                                            \n",
            "                                                                                                  \n",
            " layer_normalization_6 (LayerNo  (None, None, 28, 28  256        ['time_distributed_3[0][0]']     \n",
            " rmalization)                   , 128)                                                            \n",
            "                                                                                                  \n",
            " time_distributed_4 (TimeDistri  (None, None, 28, 28  15489      ['layer_normalization_6[0][0]']  \n",
            " buted)                         , 1)                                                              \n",
            "                                                                                                  \n",
            "==================================================================================================\n",
            "Total params: 1,330,881\n",
            "Trainable params: 1,330,881\n",
            "Non-trainable params: 0\n",
            "__________________________________________________________________________________________________\n"
          ]
        }
      ],
      "source": [
        "# Construct the input layer with no definite frame size.\n",
        "\n",
        "import keras\n",
        "from keras.layers import Conv2DTranspose, ConvLSTM2D, BatchNormalization, TimeDistributed, Conv2D\n",
        "from keras.models import Sequential, load_model\n",
        "from keras.layers import LayerNormalization\n",
        "\n",
        "\n",
        "# We will construct 3 `ConvLSTM2D` layers with batch normalization,\n",
        "# followed by a `Conv3D` layer for the spatiotemporal outputs.\n",
        "inp = layers.Input(shape=(None, *x_train.shape[2:]))\n",
        "\n",
        "x = (TimeDistributed(Conv2D(128, (11, 11), strides=2, activation=\"relu\", padding=\"same\")))(inp)\n",
        "x = (LayerNormalization())(x)\n",
        "x = (TimeDistributed(Conv2D(64, (5, 5), strides=2, activation=\"relu\", padding=\"same\")))(x)\n",
        "x = LayerNormalization()(x)\n",
        "# # # # #\n",
        "x = (ConvGRU2D(64, (3, 3), padding=\"same\", activation=\"relu\", return_sequences=True))(x)\n",
        "x = LayerNormalization()(x)\n",
        "x = ConvGRU2D(32, (3, 3), padding=\"same\", activation=\"relu\", return_sequences=True)(x)\n",
        "x = LayerNormalization()(x)\n",
        "x = ConvGRU2D(64, (3, 3), padding=\"same\", activation=\"relu\", return_sequences=True)(x)\n",
        "x = LayerNormalization()(x)\n",
        "# # # # #\n",
        "x = TimeDistributed(Conv2DTranspose(64, (5, 5), strides=2, activation=\"relu\", padding=\"same\"))(x)\n",
        "x = LayerNormalization()(x)\n",
        "x = TimeDistributed(Conv2DTranspose(128, (11, 11), strides=2, activation=\"relu\", padding=\"same\"))(x)\n",
        "x = LayerNormalization()(x)\n",
        "x = TimeDistributed(Conv2D(1, (11, 11), activation=\"sigmoid\", padding=\"same\"))(x)\n",
        "\n",
        "# Next, we will build the complete model and compile it.\n",
        "model = keras.models.Model(inp, x)\n",
        "model.compile(\n",
        "    loss=keras.losses.binary_crossentropy, optimizer=tf.keras.optimizers.Adam(),metrics=['accuracy', tf.keras.metrics.AUC(), tf.keras.metrics.Precision(), tf.keras.metrics.Recall()]\n",
        ")\n",
        "model.summary()"
      ]
    },
    {
      "cell_type": "code",
      "source": [
        "# Construct the input layer with no definite frame size.\n",
        "\n",
        "import keras\n",
        "from keras.layers import Conv2DTranspose, ConvLSTM2D, BatchNormalization, TimeDistributed, Conv2D\n",
        "from keras.models import Sequential, load_model\n",
        "from keras.layers import LayerNormalization\n",
        "\n",
        "\n",
        "# We will construct 3 `ConvLSTM2D` layers with batch normalization,\n",
        "# followed by a `Conv3D` layer for the spatiotemporal outputs.\n",
        "inp = layers.Input(shape=(None, *x_train.shape[2:]))\n",
        "\n",
        "x = (TimeDistributed(Conv2D(128, (11, 11), strides=2, activation=\"relu\", padding=\"same\")))(inp)\n",
        "x = (LayerNormalization())(x)\n",
        "x = (TimeDistributed(Conv2D(64, (5, 5), strides=2, activation=\"relu\", padding=\"same\")))(x)\n",
        "x = LayerNormalization()(x)\n",
        "# # # # #\n",
        "x = (ConvLSTM2D(64, (3, 3), padding=\"same\", activation=\"relu\", return_sequences=True))(x)\n",
        "x = LayerNormalization()(x)\n",
        "x = ConvLSTM2D(32, (3, 3), padding=\"same\", activation=\"relu\", return_sequences=True)(x)\n",
        "x = LayerNormalization()(x)\n",
        "x = ConvLSTM2D(64, (3, 3), padding=\"same\", activation=\"relu\", return_sequences=True)(x)\n",
        "x = LayerNormalization()(x)\n",
        "# # # # #\n",
        "x = TimeDistributed(Conv2DTranspose(64, (5, 5), strides=2, activation=\"relu\", padding=\"same\"))(x)\n",
        "x = LayerNormalization()(x)\n",
        "x = TimeDistributed(Conv2DTranspose(128, (11, 11), strides=2, activation=\"relu\", padding=\"same\"))(x)\n",
        "x = LayerNormalization()(x)\n",
        "x = TimeDistributed(Conv2D(1, (11, 11), activation=\"sigmoid\", padding=\"same\"))(x)\n",
        "\n",
        "# Next, we will build the complete model and compile it.\n",
        "model = keras.models.Model(inp, x)\n",
        "model.compile(\n",
        "    loss=keras.losses.binary_crossentropy, optimizer=tf.keras.optimizers.Adam(),metrics=['accuracy', tf.keras.metrics.AUC(), tf.keras.metrics.Precision(), tf.keras.metrics.Recall()]\n",
        ")\n",
        "model.summary()"
      ],
      "metadata": {
        "colab": {
          "base_uri": "https://localhost:8080/",
          "height": 235
        },
        "id": "yocs8LZgsyv6",
        "outputId": "ddc3bca5-eba4-4ffe-a077-0689174a0f8c"
      },
      "execution_count": null,
      "outputs": [
        {
          "output_type": "error",
          "ename": "NameError",
          "evalue": "ignored",
          "traceback": [
            "\u001b[0;31m---------------------------------------------------------------------------\u001b[0m",
            "\u001b[0;31mNameError\u001b[0m                                 Traceback (most recent call last)",
            "\u001b[0;32m<ipython-input-18-24ea803d3191>\u001b[0m in \u001b[0;36m<module>\u001b[0;34m()\u001b[0m\n\u001b[1;32m      9\u001b[0m \u001b[0;31m# We will construct 3 `ConvLSTM2D` layers with batch normalization,\u001b[0m\u001b[0;34m\u001b[0m\u001b[0;34m\u001b[0m\u001b[0;34m\u001b[0m\u001b[0m\n\u001b[1;32m     10\u001b[0m \u001b[0;31m# followed by a `Conv3D` layer for the spatiotemporal outputs.\u001b[0m\u001b[0;34m\u001b[0m\u001b[0;34m\u001b[0m\u001b[0;34m\u001b[0m\u001b[0m\n\u001b[0;32m---> 11\u001b[0;31m \u001b[0minp\u001b[0m \u001b[0;34m=\u001b[0m \u001b[0mlayers\u001b[0m\u001b[0;34m.\u001b[0m\u001b[0mInput\u001b[0m\u001b[0;34m(\u001b[0m\u001b[0mshape\u001b[0m\u001b[0;34m=\u001b[0m\u001b[0;34m(\u001b[0m\u001b[0;32mNone\u001b[0m\u001b[0;34m,\u001b[0m \u001b[0;34m*\u001b[0m\u001b[0mx_train\u001b[0m\u001b[0;34m.\u001b[0m\u001b[0mshape\u001b[0m\u001b[0;34m[\u001b[0m\u001b[0;36m2\u001b[0m\u001b[0;34m:\u001b[0m\u001b[0;34m]\u001b[0m\u001b[0;34m)\u001b[0m\u001b[0;34m)\u001b[0m\u001b[0;34m\u001b[0m\u001b[0;34m\u001b[0m\u001b[0m\n\u001b[0m\u001b[1;32m     12\u001b[0m \u001b[0;34m\u001b[0m\u001b[0m\n\u001b[1;32m     13\u001b[0m \u001b[0mx\u001b[0m \u001b[0;34m=\u001b[0m \u001b[0;34m(\u001b[0m\u001b[0mTimeDistributed\u001b[0m\u001b[0;34m(\u001b[0m\u001b[0mConv2D\u001b[0m\u001b[0;34m(\u001b[0m\u001b[0;36m128\u001b[0m\u001b[0;34m,\u001b[0m \u001b[0;34m(\u001b[0m\u001b[0;36m11\u001b[0m\u001b[0;34m,\u001b[0m \u001b[0;36m11\u001b[0m\u001b[0;34m)\u001b[0m\u001b[0;34m,\u001b[0m \u001b[0mstrides\u001b[0m\u001b[0;34m=\u001b[0m\u001b[0;36m2\u001b[0m\u001b[0;34m,\u001b[0m \u001b[0mactivation\u001b[0m\u001b[0;34m=\u001b[0m\u001b[0;34m\"relu\"\u001b[0m\u001b[0;34m,\u001b[0m \u001b[0mpadding\u001b[0m\u001b[0;34m=\u001b[0m\u001b[0;34m\"same\"\u001b[0m\u001b[0;34m)\u001b[0m\u001b[0;34m)\u001b[0m\u001b[0;34m)\u001b[0m\u001b[0;34m(\u001b[0m\u001b[0minp\u001b[0m\u001b[0;34m)\u001b[0m\u001b[0;34m\u001b[0m\u001b[0;34m\u001b[0m\u001b[0m\n",
            "\u001b[0;31mNameError\u001b[0m: name 'x_train' is not defined"
          ]
        }
      ]
    },
    {
      "cell_type": "code",
      "source": [
        "# Construct the input layer with no definite frame size.\n",
        "\n",
        "import keras\n",
        "from keras.layers import Conv2DTranspose, ConvLSTM2D, BatchNormalization, TimeDistributed, Conv2D\n",
        "from keras.models import Sequential, load_model\n",
        "from keras.layers import LayerNormalization\n",
        "\n",
        "\n",
        "# We will construct 3 `ConvLSTM2D` layers with batch normalization,\n",
        "# followed by a `Conv3D` layer for the spatiotemporal outputs.\n",
        "inp = layers.Input(shape=(None, *x_train.shape[2:]))\n",
        "\n",
        "x = (TimeDistributed(Conv2D(128, (11, 11), strides=2, activation=\"relu\", padding=\"same\")))(inp)\n",
        "x = (LayerNormalization())(x)\n",
        "x = (TimeDistributed(Conv2D(64, (5, 5), strides=2, activation=\"relu\", padding=\"same\")))(x)\n",
        "x = LayerNormalization()(x)\n",
        "# # # # #\n",
        "#Following etal Hasan's architecture which doesnt include any temporal remembrance.\n",
        "# # # # #\n",
        "x = TimeDistributed(Conv2DTranspose(64, (5, 5), strides=2, activation=\"relu\", padding=\"same\"))(x)\n",
        "x = LayerNormalization()(x)\n",
        "x = TimeDistributed(Conv2DTranspose(128, (11, 11), strides=2, activation=\"relu\", padding=\"same\"))(x)\n",
        "x = LayerNormalization()(x)\n",
        "x = TimeDistributed(Conv2D(1, (11, 11), activation=\"sigmoid\", padding=\"same\"))(x)\n",
        "\n",
        "# Next, we will build the complete model and compile it.\n",
        "model = keras.models.Model(inp, x)\n",
        "model.compile(\n",
        "    loss=keras.losses.binary_crossentropy, optimizer=tf.keras.optimizers.Adam(), metrics=['accuracy', tf.keras.metrics.AUC(), tf.keras.metrics.Precision(), tf.keras.metrics.Recall()]\n",
        ")\n",
        "model.summary()"
      ],
      "metadata": {
        "colab": {
          "base_uri": "https://localhost:8080/"
        },
        "id": "dTYsvVYfn2rE",
        "outputId": "93e318e0-7358-4ef8-d044-af0697b2316f"
      },
      "execution_count": null,
      "outputs": [
        {
          "output_type": "stream",
          "name": "stdout",
          "text": [
            "Model: \"model\"\n",
            "_________________________________________________________________\n",
            " Layer (type)                Output Shape              Param #   \n",
            "=================================================================\n",
            " input_1 (InputLayer)        [(None, None, 28, 28, 1)  0         \n",
            "                             ]                                   \n",
            "                                                                 \n",
            " time_distributed (TimeDistr  (None, None, 14, 14, 128  15616    \n",
            " ibuted)                     )                                   \n",
            "                                                                 \n",
            " layer_normalization (LayerN  (None, None, 14, 14, 128  256      \n",
            " ormalization)               )                                   \n",
            "                                                                 \n",
            " time_distributed_1 (TimeDis  (None, None, 7, 7, 64)   204864    \n",
            " tributed)                                                       \n",
            "                                                                 \n",
            " layer_normalization_1 (Laye  (None, None, 7, 7, 64)   128       \n",
            " rNormalization)                                                 \n",
            "                                                                 \n",
            " time_distributed_2 (TimeDis  (None, None, 14, 14, 64)  102464   \n",
            " tributed)                                                       \n",
            "                                                                 \n",
            " layer_normalization_2 (Laye  (None, None, 14, 14, 64)  128      \n",
            " rNormalization)                                                 \n",
            "                                                                 \n",
            " time_distributed_3 (TimeDis  (None, None, 28, 28, 128  991360   \n",
            " tributed)                   )                                   \n",
            "                                                                 \n",
            " layer_normalization_3 (Laye  (None, None, 28, 28, 128  256      \n",
            " rNormalization)             )                                   \n",
            "                                                                 \n",
            " time_distributed_4 (TimeDis  (None, None, 28, 28, 1)  15489     \n",
            " tributed)                                                       \n",
            "                                                                 \n",
            "=================================================================\n",
            "Total params: 1,330,561\n",
            "Trainable params: 1,330,561\n",
            "Non-trainable params: 0\n",
            "_________________________________________________________________\n"
          ]
        }
      ]
    },
    {
      "cell_type": "code",
      "execution_count": null,
      "metadata": {
        "colab": {
          "base_uri": "https://localhost:8080/"
        },
        "id": "xNxR2Y6NNlA-",
        "outputId": "9e3de68c-51a0-4f9d-c47d-6ca2ee90df51"
      },
      "outputs": [
        {
          "output_type": "stream",
          "name": "stdout",
          "text": [
            "Epoch 1/10\n",
            "885/885 [==============================] - 67s 65ms/step - loss: 0.0740 - accuracy: 0.9070 - auc: 0.9872 - precision: 0.9475 - recall: 0.7292 - val_loss: 0.0580 - val_accuracy: 0.9082 - val_auc: 0.9940 - val_precision: 0.9688 - val_recall: 0.7580 - lr: 0.0010\n",
            "Epoch 2/10\n",
            "885/885 [==============================] - 56s 63ms/step - loss: 0.0560 - accuracy: 0.9089 - auc: 0.9944 - precision: 0.9718 - recall: 0.7738 - val_loss: 0.0545 - val_accuracy: 0.9083 - val_auc: 0.9948 - val_precision: 0.9707 - val_recall: 0.7854 - lr: 0.0010\n",
            "Epoch 3/10\n",
            "885/885 [==============================] - 56s 63ms/step - loss: 0.0529 - accuracy: 0.9090 - auc: 0.9953 - precision: 0.9719 - recall: 0.7863 - val_loss: 0.0532 - val_accuracy: 0.9086 - val_auc: 0.9951 - val_precision: 0.9730 - val_recall: 0.7624 - lr: 0.0010\n",
            "Epoch 4/10\n",
            "885/885 [==============================] - 56s 63ms/step - loss: 0.0510 - accuracy: 0.9090 - auc: 0.9958 - precision: 0.9723 - recall: 0.7936 - val_loss: 0.0522 - val_accuracy: 0.9080 - val_auc: 0.9956 - val_precision: 0.9666 - val_recall: 0.7949 - lr: 0.0010\n",
            "Epoch 5/10\n",
            "885/885 [==============================] - 56s 63ms/step - loss: 0.0496 - accuracy: 0.9091 - auc: 0.9962 - precision: 0.9729 - recall: 0.7995 - val_loss: 0.0506 - val_accuracy: 0.9083 - val_auc: 0.9957 - val_precision: 0.9701 - val_recall: 0.7801 - lr: 0.0010\n",
            "Epoch 6/10\n",
            "885/885 [==============================] - 56s 63ms/step - loss: 0.0484 - accuracy: 0.9091 - auc: 0.9966 - precision: 0.9737 - recall: 0.8041 - val_loss: 0.0501 - val_accuracy: 0.9086 - val_auc: 0.9961 - val_precision: 0.9748 - val_recall: 0.8191 - lr: 0.0010\n",
            "Epoch 7/10\n",
            "885/885 [==============================] - 56s 63ms/step - loss: 0.0475 - accuracy: 0.9092 - auc: 0.9968 - precision: 0.9742 - recall: 0.8079 - val_loss: 0.0494 - val_accuracy: 0.9083 - val_auc: 0.9962 - val_precision: 0.9698 - val_recall: 0.8123 - lr: 0.0010\n",
            "Epoch 8/10\n",
            "885/885 [==============================] - 56s 63ms/step - loss: 0.0465 - accuracy: 0.9093 - auc: 0.9971 - precision: 0.9748 - recall: 0.8118 - val_loss: 0.0491 - val_accuracy: 0.9086 - val_auc: 0.9960 - val_precision: 0.9741 - val_recall: 0.7894 - lr: 0.0010\n",
            "Epoch 9/10\n",
            "885/885 [==============================] - 56s 63ms/step - loss: 0.0455 - accuracy: 0.9093 - auc: 0.9973 - precision: 0.9759 - recall: 0.8161 - val_loss: 0.0490 - val_accuracy: 0.9083 - val_auc: 0.9959 - val_precision: 0.9699 - val_recall: 0.7913 - lr: 0.0010\n",
            "Epoch 10/10\n",
            "885/885 [==============================] - 56s 63ms/step - loss: 0.0446 - accuracy: 0.9094 - auc: 0.9975 - precision: 0.9767 - recall: 0.8204 - val_loss: 0.0492 - val_accuracy: 0.9082 - val_auc: 0.9961 - val_precision: 0.9689 - val_recall: 0.8301 - lr: 0.0010\n",
            "Time taken 623.9524130821228\n"
          ]
        }
      ],
      "source": [
        "from time import time\n",
        "# Define some callbacks to improve training.\n",
        "\n",
        "early_stopping = keras.callbacks.EarlyStopping(monitor=\"val_loss\", patience=10)\n",
        "reduce_lr = keras.callbacks.ReduceLROnPlateau(monitor=\"val_loss\", patience=5)\n",
        "\n",
        "# Define modifiable training hyperparameters.\n",
        "epochs = 10\n",
        "batch_size = 10\n",
        "\n",
        "# Fit the model to the training data.\n",
        "start = time()\n",
        "history = model.fit(\n",
        "    x_train,\n",
        "    y_train,\n",
        "    batch_size=batch_size,\n",
        "    epochs=epochs,\n",
        "    validation_data=(x_val, y_val),\n",
        "    callbacks=[early_stopping, reduce_lr],\n",
        ")\n",
        "print(\"Time taken \" + str(time()-start))"
      ]
    },
    {
      "cell_type": "code",
      "source": [
        "model.evaluate(x_test, y_test, batch_size=10)"
      ],
      "metadata": {
        "colab": {
          "base_uri": "https://localhost:8080/"
        },
        "id": "RDSgq7td4FPd",
        "outputId": "cad0ac50-d68a-4987-9619-34e2239aee50"
      },
      "execution_count": null,
      "outputs": [
        {
          "output_type": "stream",
          "name": "stdout",
          "text": [
            "1000/1000 [==============================] - 20s 19ms/step - loss: 0.0582 - accuracy: 0.9072 - auc: 0.9915 - precision: 0.9603 - recall: 0.8092\n"
          ]
        },
        {
          "output_type": "execute_result",
          "data": {
            "text/plain": [
              "[0.05818907916545868,\n",
              " 0.9072107076644897,\n",
              " 0.9914718866348267,\n",
              " 0.9602819681167603,\n",
              " 0.8092082738876343]"
            ]
          },
          "metadata": {},
          "execution_count": 28
        }
      ]
    },
    {
      "cell_type": "code",
      "source": [
        "history_test_noise = model.evaluate(x_noise, y_noise, batch_size=10)"
      ],
      "metadata": {
        "colab": {
          "base_uri": "https://localhost:8080/"
        },
        "id": "oqyjLzhX2PrM",
        "outputId": "6e2408c6-7c66-424a-dcef-8fdd1a297c86"
      },
      "execution_count": null,
      "outputs": [
        {
          "output_type": "stream",
          "name": "stdout",
          "text": [
            "1000/1000 [==============================] - 19s 19ms/step - loss: 0.0943 - accuracy: 0.6545 - auc: 0.6332 - precision: 0.9829 - recall: 0.1513\n"
          ]
        }
      ]
    },
    {
      "cell_type": "code",
      "source": [
        "  param = [\"loss\", \"acc\", \"auc\", \"tn\", \"tp\", \"fn\", \"fp\"]\n",
        "history_test_noise = dict(zip(param, history_test_noise))"
      ],
      "metadata": {
        "id": "P7kJrFZm4nhd"
      },
      "execution_count": null,
      "outputs": []
    },
    {
      "cell_type": "code",
      "source": [
        "print(history_test_noise)"
      ],
      "metadata": {
        "colab": {
          "base_uri": "https://localhost:8080/"
        },
        "id": "TRazJZuiECGR",
        "outputId": "019d2028-2366-467e-e6cc-38b440fae6e1"
      },
      "execution_count": null,
      "outputs": [
        {
          "output_type": "stream",
          "name": "stdout",
          "text": [
            "{'loss': 0.1510983556509018, 'acc': 0.6425591111183167, 'auc': 0.6343222260475159, 'tn': 35135268.0, 'tp': 4033190.0, 'fn': 14879361.0, 'fp': 832172.0}\n"
          ]
        }
      ]
    },
    {
      "cell_type": "code",
      "source": [
        "def get_single_test(i):\n",
        "  random_index, gauss = generate_noise()\n",
        "  if i==-1:\n",
        "    example = test_dataset[np.random.choice(range(len(val_dataset)), size=1)[0]]\n",
        "    example[random_index] = example[random_index]+gauss\n",
        "  else:\n",
        "    example = val_dataset[i].copy()\n",
        "    example[random_index] = example[random_index]+gauss\n",
        "  return example, random_index"
      ],
      "metadata": {
        "id": "QWQ5T1GI_E5t"
      },
      "execution_count": null,
      "outputs": []
    },
    {
      "cell_type": "code",
      "source": [
        "import matplotlib.pyplot as plt\n",
        "def evaluate(i = -1):\n",
        "\n",
        "    test, random_index = get_single_test(i)\n",
        "\n",
        "    ground_truth = np.ones(4)\n",
        "    random_index = np.subtract(random_index, 4)\n",
        "    ground_truth[random_index] = 0;\n",
        "\n",
        "    sz = 4\n",
        "    frames = test[:4, ...]\n",
        "    original_frames = test[4:, ...]\n",
        "\n",
        "    for _ in range(4):\n",
        "        # Extract the model's prediction and post-process it.\n",
        "        new_prediction = model.predict(np.expand_dims(frames, axis=0))\n",
        "        new_prediction = np.squeeze(new_prediction, axis=0)\n",
        "        predicted_frame = np.expand_dims(new_prediction[-1, ...], axis=0)\n",
        "        # Extend the set of prediction frames.\n",
        "        frames = np.concatenate((frames, predicted_frame), axis=0)\n",
        "\n",
        "    #Get the new frames\n",
        "    new_frames = frames[4:, ...]\n",
        "\n",
        "    # get the reconstruction cost of all the sequences\n",
        "    reconstruction_cost = []\n",
        "    for i in range(4):\n",
        "        reconstruction_cost.append(np.linalg.norm(np.subtract(original_frames[i],new_frames[i])))\n",
        "    sa = (reconstruction_cost - np.min(reconstruction_cost)) / np.max(reconstruction_cost)\n",
        "    sr = 1.0 - sa\n",
        "    \n",
        "    # plot the regularity scores\n",
        "\n",
        "    fig, axes = plt.subplots(1, 1, figsize=(7.35, 4))\n",
        "\n",
        "    \n",
        "    plt.plot(sr)\n",
        "    plt.ylabel('regularity score Sr(t)')\n",
        "    plt.xlabel('frame t')\n",
        "    plt.show()\n",
        "\n",
        "    fig, axes = plt.subplots(2, 4, figsize=(8, 4))\n",
        "\n",
        "    # Plot the original frames.\n",
        "    for idx, ax in enumerate(axes[0]):\n",
        "        ax.imshow(np.squeeze(original_frames[idx]), cmap=\"gray\")\n",
        "        ax.set_title(f\"Frame {idx + 5}\")\n",
        "        ax.axis(\"off\")\n",
        "\n",
        "    # Plot the new frames.\n",
        "    new_frames = frames[4:, ...]\n",
        "    for idx, ax in enumerate(axes[1]):\n",
        "        ax.imshow(np.squeeze(new_frames[idx]), cmap=\"gray\")\n",
        "        ax.set_title(f\"Frame {idx + 5}\")\n",
        "        ax.axis(\"off\")\n",
        "\n",
        "    # Display the figure.\n",
        "    plt.show()"
      ],
      "metadata": {
        "id": "3nLdWsPFTIX7"
      },
      "execution_count": null,
      "outputs": []
    },
    {
      "cell_type": "code",
      "source": [
        "evaluate(8)"
      ],
      "metadata": {
        "colab": {
          "base_uri": "https://localhost:8080/",
          "height": 523
        },
        "id": "Fat1jvQn2kLm",
        "outputId": "1d5b2490-251b-4fca-bdaf-11d015a96165"
      },
      "execution_count": null,
      "outputs": [
        {
          "output_type": "display_data",
          "data": {
            "text/plain": [
              "<Figure size 529.2x288 with 1 Axes>"
            ],
            "image/png": "[encoded data removed]"
          },
          "metadata": {
            "image/png": {
              "width": 460,
              "height": 261
            },
            "needs_background": "light"
          }
        },
        {
          "output_type": "display_data",
          "data": {
            "text/plain": [
              "<Figure size 576x288 with 8 Axes>"
            ],
            "image/png": "[encoded data removed]"
          },
          "metadata": {
            "image/png": {
              "width": 460,
              "height": 245
            },
            "needs_background": "light"
          }
        }
      ]
    },
    {
      "cell_type": "code",
      "source": [
        "import matplotlib.pyplot as plt\n",
        "def plot_regularity_curve(i = -1):\n",
        "\n",
        "    test = test_dataset_noise[i]\n",
        "    random_index = noise_index[i]\n",
        "    ground_truth = np.ones(4)\n",
        "    random_index = np.subtract(random_index, 4)\n",
        "    ground_truth[random_index] = 0;\n",
        "\n",
        "    sz = 4\n",
        "    frames = test[:4, ...]\n",
        "    original_frames = test[4:, ...]\n",
        "\n",
        "    for _ in range(4):\n",
        "        # Extract the model's prediction and post-process it.\n",
        "        new_prediction = model.predict(np.expand_dims(frames, axis=0))\n",
        "        new_prediction = np.squeeze(new_prediction, axis=0)\n",
        "        predicted_frame = np.expand_dims(new_prediction[-1, ...], axis=0)\n",
        "\n",
        "        # Extend the set of prediction frames.\n",
        "        frames = np.concatenate((frames, predicted_frame), axis=0)\n",
        "\n",
        "    #Get the new frames\n",
        "    new_frames = frames[4:, ...]\n",
        "\n",
        "    # get the reconstruction cost of all the sequences\n",
        "    reconstruction_cost = []\n",
        "    for i in range(4):\n",
        "        reconstruction_cost.append(np.linalg.norm(np.subtract(original_frames[i],new_frames[i])))\n",
        "    sa = (reconstruction_cost - np.min(reconstruction_cost)) / np.max(reconstruction_cost)\n",
        "    sr = 1.0 - sa\n",
        "    predicted_value = list(np.floor(sr+0.3))\n",
        "    new_frames = frames[4:, ...]\n",
        "    return ground_truth, predicted_value"
      ],
      "metadata": {
        "id": "JvnFRxFEML7g"
      },
      "execution_count": null,
      "outputs": []
    },
    {
      "cell_type": "code",
      "source": [
        "y_truth = []\n",
        "y_pred = []\n",
        "\n",
        "DATASET = test_dataset_noise\n",
        "for i in range(len(DATASET)):\n",
        "  t, p = plot_regularity_curve(i)\n",
        "  for j in t:\n",
        "    y_truth.append(j)\n",
        "  for j in p:\n",
        "    y_pred.append(j)\n",
        "\n",
        "# from sklearn.metrics import roc_curve\n",
        "# from sklearn.metrics import auc\n",
        "# fpr_keras, tpr_keras, thresholds_keras = roc_curve(y_truth, y_pred)\n",
        "# auc_keras = auc(fpr_keras, tpr_keras)\n",
        "# print(fpr_keras, tpr_keras)\n",
        "\n",
        "# plt.figure(1)\n",
        "# plt.plot([0, 1], [0, 1], 'k--')\n",
        "# plt.plot(fpr_keras, tpr_keras, label='Keras (area = {:.3f})'.format(auc_keras))\n",
        "# plt.xlabel('False positive rate')\n",
        "# plt.ylabel('True positive rate')\n",
        "# plt.title('ROC curve')\n",
        "# plt.legend(loc='best')\n",
        "# plt.show()\n",
        "# # Zoom in view of the upper left corner.\n",
        "# plt.figure(2)\n",
        "# plt.xlim(0, 0.2)\n",
        "# plt.ylim(0.8, 1)\n",
        "# plt.plot([0, 1], [0, 1], 'k--')\n",
        "# plt.plot(fpr_keras, tpr_keras, label='Keras (area = {:.3f})'.format(auc_keras))\n",
        "# plt.xlabel('False positive rate')\n",
        "# plt.ylabel('True positive rate')\n",
        "# plt.title('ROC curve (zoomed in at top left)')\n",
        "# plt.legend(loc='best')\n",
        "# plt.show()"
      ],
      "metadata": {
        "id": "PkTDI0K9-cSF"
      },
      "execution_count": null,
      "outputs": []
    },
    {
      "cell_type": "code",
      "source": [
        "anomaly_count = 0\n",
        "false_alarm = 0\n",
        "anomaly_detected = 0\n",
        "unsimilar = 0;\n",
        "for i in range(len(y_pred)):\n",
        "  if y_truth[i]!=y_pred[i]:\n",
        "        unsimilar+=1\n",
        "  if y_truth[i]==0:\n",
        "    anomaly_count+=1\n",
        "    if y_pred[i]==0:\n",
        "      anomaly_detected+=1\n",
        "  if y_pred[i]==0 and y_truth[i]==1:\n",
        "    false_alarm+=1\n",
        "print(anomaly_count, false_alarm, anomaly_detected, unsimilar)"
      ],
      "metadata": {
        "id": "B2GpEDStfo41",
        "colab": {
          "base_uri": "https://localhost:8080/"
        },
        "outputId": "2f1db053-f349-4d7d-9e40-c91de9241773"
      },
      "execution_count": null,
      "outputs": [
        {
          "output_type": "stream",
          "name": "stdout",
          "text": [
            "20000 2050 14387 7663\n"
          ]
        }
      ]
    },
    {
      "cell_type": "code",
      "source": [
        "    cnt = 0\n",
        "for i in range(len(y_pred)):\n",
        "  if y_pred[i]!=y_truth[i]:\n",
        "    cnt+=1\n",
        "print(cnt)"
      ],
      "metadata": {
        "colab": {
          "base_uri": "https://localhost:8080/"
        },
        "id": "ATw2H5W1pF3W",
        "outputId": "e5f4401f-8dbc-4ab3-cb37-1cfd3f44f8b5"
      },
      "execution_count": null,
      "outputs": [
        {
          "output_type": "stream",
          "name": "stdout",
          "text": [
            "486\n"
          ]
        }
      ]
    },
    {
      "cell_type": "code",
      "source": [
        "# summarise history for accuracy\n",
        "plt.plot(history.history['accuracy'])\n",
        "plt.plot(history.history['val_accuracy'])\n",
        "plt.title('Model Accuracy')\n",
        "plt.ylabel('accuracy')\n",
        "plt.xlabel('epoch')\n",
        "plt.legend(['train', 'validation'], loc='upper left')\n",
        "plt.show()\n",
        "# summarize history for loss\n",
        "plt.plot(history.history['loss'])\n",
        "plt.plot(history.history['val_loss'])\n",
        "plt.title('Model Loss')\n",
        "plt.ylabel('loss')\n",
        "plt.xlabel('epoch')\n",
        "plt.legend(['train', 'validation'], loc='upper left')\n",
        "plt.show()\n",
        "#summarise AUC\n",
        "plt.plot(history.history['auc'])\n",
        "plt.plot(history.history['val_auc'])\n",
        "plt.title('Model AUC')\n",
        "plt.ylabel('auc')\n",
        "plt.xlabel('epoch')\n",
        "plt.legend(['train', 'validation'], loc='upper left')"
      ],
      "metadata": {
        "id": "1NZCsniha4WZ",
        "colab": {
          "base_uri": "https://localhost:8080/",
          "height": 865
        },
        "outputId": "1c0db450-191e-4d70-96ff-ff3578ddb698"
      },
      "execution_count": null,
      "outputs": [
        {
          "output_type": "display_data",
          "data": {
            "text/plain": [
              "<Figure size 432x288 with 1 Axes>"
            ],
            "image/png": "[encoded data removed]"
          },
          "metadata": {
            "image/png": {
              "width": 404,
              "height": 277
            },
            "needs_background": "light"
          }
        },
        {
          "output_type": "display_data",
          "data": {
            "text/plain": [
              "<Figure size 432x288 with 1 Axes>"
            ],
            "image/png": "[encoded data removed]"
          },
          "metadata": {
            "image/png": {
              "width": 398,
              "height": 277
            },
            "needs_background": "light"
          }
        },
        {
          "output_type": "execute_result",
          "data": {
            "text/plain": [
              "<matplotlib.legend.Legend at 0x7fc2f2317290>"
            ]
          },
          "metadata": {},
          "execution_count": 45
        },
        {
          "output_type": "display_data",
          "data": {
            "text/plain": [
              "<Figure size 432x288 with 1 Axes>"
            ],
            "image/png": "[encoded data removed]"
          },
          "metadata": {
            "image/png": {
              "width": 398,
              "height": 277
            },
            "needs_background": "light"
          }
        }
      ]
    },
    {
      "cell_type": "code",
      "source": [
        "import pickle\n",
        "with open('model_GRU.pkl', 'wb') as f:\n",
        "    pickle.dump(model, f)"
      ],
      "metadata": {
        "colab": {
          "base_uri": "https://localhost:8080/",
          "height": 450
        },
        "id": "ZxaErvo5CqB9",
        "outputId": "b24eb1df-a0b7-4d35-8945-adcfb39fdb61"
      },
      "execution_count": null,
      "outputs": [
        {
          "output_type": "error",
          "ename": "AssertionError",
          "evalue": "ignored",
          "traceback": [
            "\u001b[0;31m---------------------------------------------------------------------------\u001b[0m",
            "\u001b[0;31mAssertionError\u001b[0m                            Traceback (most recent call last)",
            "\u001b[0;32m<ipython-input-13-d0b0c28b42a8>\u001b[0m in \u001b[0;36m<module>\u001b[0;34m()\u001b[0m\n\u001b[1;32m      1\u001b[0m \u001b[0;32mimport\u001b[0m \u001b[0mpickle\u001b[0m\u001b[0;34m\u001b[0m\u001b[0;34m\u001b[0m\u001b[0m\n\u001b[1;32m      2\u001b[0m \u001b[0;32mwith\u001b[0m \u001b[0mopen\u001b[0m\u001b[0;34m(\u001b[0m\u001b[0;34m'model_GRU.pkl'\u001b[0m\u001b[0;34m,\u001b[0m \u001b[0;34m'wb'\u001b[0m\u001b[0;34m)\u001b[0m \u001b[0;32mas\u001b[0m \u001b[0mf\u001b[0m\u001b[0;34m:\u001b[0m\u001b[0;34m\u001b[0m\u001b[0;34m\u001b[0m\u001b[0m\n\u001b[0;32m----> 3\u001b[0;31m     \u001b[0mpickle\u001b[0m\u001b[0;34m.\u001b[0m\u001b[0mdump\u001b[0m\u001b[0;34m(\u001b[0m\u001b[0mmodel\u001b[0m\u001b[0;34m,\u001b[0m \u001b[0mf\u001b[0m\u001b[0;34m)\u001b[0m\u001b[0;34m\u001b[0m\u001b[0;34m\u001b[0m\u001b[0m\n\u001b[0m",
            "\u001b[0;32m/usr/local/lib/python3.7/dist-packages/keras/engine/training.py\u001b[0m in \u001b[0;36m__reduce__\u001b[0;34m(self)\u001b[0m\n\u001b[1;32m    313\u001b[0m     \u001b[0;32mif\u001b[0m \u001b[0mself\u001b[0m\u001b[0;34m.\u001b[0m\u001b[0mbuilt\u001b[0m\u001b[0;34m:\u001b[0m\u001b[0;34m\u001b[0m\u001b[0;34m\u001b[0m\u001b[0m\n\u001b[1;32m    314\u001b[0m       return (pickle_utils.deserialize_model_from_bytecode,\n\u001b[0;32m--> 315\u001b[0;31m               pickle_utils.serialize_model_as_bytecode(self))\n\u001b[0m\u001b[1;32m    316\u001b[0m     \u001b[0;32melse\u001b[0m\u001b[0;34m:\u001b[0m\u001b[0;34m\u001b[0m\u001b[0;34m\u001b[0m\u001b[0m\n\u001b[1;32m    317\u001b[0m       \u001b[0;31m# SavedModel (and hence serialize_model_as_bytecode) only support\u001b[0m\u001b[0;34m\u001b[0m\u001b[0;34m\u001b[0m\u001b[0;34m\u001b[0m\u001b[0m\n",
            "\u001b[0;32m/usr/local/lib/python3.7/dist-packages/keras/saving/pickle_utils.py\u001b[0m in \u001b[0;36mserialize_model_as_bytecode\u001b[0;34m(model)\u001b[0m\n\u001b[1;32m     62\u001b[0m   \"\"\"\n\u001b[1;32m     63\u001b[0m   \u001b[0mtemp_dir\u001b[0m \u001b[0;34m=\u001b[0m \u001b[0;34mf\"ram://{uuid.uuid4()}\"\u001b[0m\u001b[0;34m\u001b[0m\u001b[0;34m\u001b[0m\u001b[0m\n\u001b[0;32m---> 64\u001b[0;31m   \u001b[0mmodel\u001b[0m\u001b[0;34m.\u001b[0m\u001b[0msave\u001b[0m\u001b[0;34m(\u001b[0m\u001b[0mtemp_dir\u001b[0m\u001b[0;34m)\u001b[0m\u001b[0;34m\u001b[0m\u001b[0;34m\u001b[0m\u001b[0m\n\u001b[0m\u001b[1;32m     65\u001b[0m   \u001b[0mb\u001b[0m \u001b[0;34m=\u001b[0m \u001b[0mio\u001b[0m\u001b[0;34m.\u001b[0m\u001b[0mBytesIO\u001b[0m\u001b[0;34m(\u001b[0m\u001b[0;34m)\u001b[0m\u001b[0;34m\u001b[0m\u001b[0;34m\u001b[0m\u001b[0m\n\u001b[1;32m     66\u001b[0m   \u001b[0;32mwith\u001b[0m \u001b[0mtarfile\u001b[0m\u001b[0;34m.\u001b[0m\u001b[0mopen\u001b[0m\u001b[0;34m(\u001b[0m\u001b[0mfileobj\u001b[0m\u001b[0;34m=\u001b[0m\u001b[0mb\u001b[0m\u001b[0;34m,\u001b[0m \u001b[0mmode\u001b[0m\u001b[0;34m=\u001b[0m\u001b[0;34m\"w\"\u001b[0m\u001b[0;34m)\u001b[0m \u001b[0;32mas\u001b[0m \u001b[0marchive\u001b[0m\u001b[0;34m:\u001b[0m\u001b[0;34m\u001b[0m\u001b[0;34m\u001b[0m\u001b[0m\n",
            "\u001b[0;32m/usr/local/lib/python3.7/dist-packages/keras/utils/traceback_utils.py\u001b[0m in \u001b[0;36merror_handler\u001b[0;34m(*args, **kwargs)\u001b[0m\n\u001b[1;32m     65\u001b[0m     \u001b[0;32mexcept\u001b[0m \u001b[0mException\u001b[0m \u001b[0;32mas\u001b[0m \u001b[0me\u001b[0m\u001b[0;34m:\u001b[0m  \u001b[0;31m# pylint: disable=broad-except\u001b[0m\u001b[0;34m\u001b[0m\u001b[0;34m\u001b[0m\u001b[0m\n\u001b[1;32m     66\u001b[0m       \u001b[0mfiltered_tb\u001b[0m \u001b[0;34m=\u001b[0m \u001b[0m_process_traceback_frames\u001b[0m\u001b[0;34m(\u001b[0m\u001b[0me\u001b[0m\u001b[0;34m.\u001b[0m\u001b[0m__traceback__\u001b[0m\u001b[0;34m)\u001b[0m\u001b[0;34m\u001b[0m\u001b[0;34m\u001b[0m\u001b[0m\n\u001b[0;32m---> 67\u001b[0;31m       \u001b[0;32mraise\u001b[0m \u001b[0me\u001b[0m\u001b[0;34m.\u001b[0m\u001b[0mwith_traceback\u001b[0m\u001b[0;34m(\u001b[0m\u001b[0mfiltered_tb\u001b[0m\u001b[0;34m)\u001b[0m \u001b[0;32mfrom\u001b[0m \u001b[0;32mNone\u001b[0m\u001b[0;34m\u001b[0m\u001b[0;34m\u001b[0m\u001b[0m\n\u001b[0m\u001b[1;32m     68\u001b[0m     \u001b[0;32mfinally\u001b[0m\u001b[0;34m:\u001b[0m\u001b[0;34m\u001b[0m\u001b[0;34m\u001b[0m\u001b[0m\n\u001b[1;32m     69\u001b[0m       \u001b[0;32mdel\u001b[0m \u001b[0mfiltered_tb\u001b[0m\u001b[0;34m\u001b[0m\u001b[0;34m\u001b[0m\u001b[0m\n",
            "\u001b[0;32m/usr/local/lib/python3.7/dist-packages/tensorflow/python/saved_model/save.py\u001b[0m in \u001b[0;36m_map_captures_to_created_tensors\u001b[0;34m(original_captures, resource_map)\u001b[0m\n\u001b[1;32m    532\u001b[0m           \u001b[0;34m\"directly.\\n\\n Trackable Python objects referring to this tensor \"\u001b[0m\u001b[0;34m\u001b[0m\u001b[0;34m\u001b[0m\u001b[0m\n\u001b[1;32m    533\u001b[0m           \"(from gc.get_referrers, limited to two hops):\\n{}\".format(\"\\n\".join(\n\u001b[0;32m--> 534\u001b[0;31m               [repr(obj) for obj in trackable_referrers])))\n\u001b[0m\u001b[1;32m    535\u001b[0m     \u001b[0mexport_captures\u001b[0m\u001b[0;34m.\u001b[0m\u001b[0mappend\u001b[0m\u001b[0;34m(\u001b[0m\u001b[0mmapped_resource\u001b[0m\u001b[0;34m)\u001b[0m\u001b[0;34m\u001b[0m\u001b[0;34m\u001b[0m\u001b[0m\n\u001b[1;32m    536\u001b[0m   \u001b[0;32mreturn\u001b[0m \u001b[0mexport_captures\u001b[0m\u001b[0;34m\u001b[0m\u001b[0;34m\u001b[0m\u001b[0m\n",
            "\u001b[0;31mAssertionError\u001b[0m: Tried to export a function which references 'untracked' resource Tensor(\"75860:0\", shape=(), dtype=resource). TensorFlow objects (e.g. tf.Variable) captured by functions must be 'tracked' by assigning them to an attribute of a tracked object or assigned to an attribute of the main object directly.\n\n Trackable Python objects referring to this tensor (from gc.get_referrers, limited to two hops):\n<tf.Variable 'conv_gr_u2d/kernel:0' shape=(3, 3, 64, 192) dtype=float32>"
          ]
        }
      ]
    },
    {
      "cell_type": "code",
      "execution_count": null,
      "metadata": {
        "colab": {
          "base_uri": "https://localhost:8080/",
          "height": 172
        },
        "id": "ObjiKcFsNn71",
        "outputId": "90dd6dff-a2f6-41f9-bcc8-4ac91fbaa5f7"
      },
      "outputs": [
        {
          "output_type": "display_data",
          "data": {
            "text/plain": [
              "<Figure size 576x144 with 8 Axes>"
            ],
            "image/png": "[encoded data removed]"
          },
          "metadata": {
            "image/png": {
              "width": 413,
              "height": 138
            },
            "needs_background": "light"
          }
        },
        {
          "output_type": "stream",
          "name": "stdout",
          "text": [
            "[9.238698686625062, 9.51360687874994, 4.156786442419575, 4.2918378557850705]\n"
          ]
        }
      ],
      "source": [
        "# Select a random example from the validation dataset.\n",
        "example = val_dataset[np.random.choice(range(len(val_dataset)), size=1)[0]]\n",
        "random_index, gauss = generate_noise()\n",
        "example[random_index] = example[random_index]+gauss\n",
        "\n",
        "# Pick the first/last ten frames from the example.\n",
        "frames = example[:4, ...]\n",
        "original_frames = example[4:, ...]\n",
        "\n",
        "# Predict a new set of 4 frames.\n",
        "for _ in range(4):\n",
        "    # Extract the model's prediction and post-process it.\n",
        "    new_prediction = model.predict(np.expand_dims(frames, axis=0))\n",
        "    new_prediction = np.squeeze(new_prediction, axis=0)\n",
        "    predicted_frame = np.expand_dims(new_prediction[-1, ...], axis=0)\n",
        "    # Extend the set of prediction frames.\n",
        "    frames = np.concatenate((frames, predicted_frame), axis=0)\n",
        "\n",
        "# Construct a figure for the original and new frames.\n",
        "fig, axes = plt.subplots(2, 4, figsize=(8, 2))\n",
        "\n",
        "# Plot the original frames.\n",
        "for idx, ax in enumerate(axes[0]):\n",
        "    ax.imshow(np.squeeze(original_frames[idx]), cmap=\"gray\")\n",
        "    ax.set_title(f\"Frame {idx + 5}\")\n",
        "    ax.axis(\"off\")\n",
        "\n",
        "# Plot the new frames.\n",
        "new_frames = frames[4:, ...]\n",
        "for idx, ax in enumerate(axes[1]):\n",
        "    ax.imshow(np.squeeze(new_frames[idx]), cmap=\"gray\")\n",
        "    ax.set_title(f\"Frame {idx + 5}\")\n",
        "    ax.axis(\"off\")\n",
        "\n",
        "# Display the figure.\n",
        "plt.show()\n",
        "\n",
        "reconstruction_cost = []\n",
        "for i in range(4):\n",
        "    reconstruction_cost.append(np.linalg.norm(np.subtract(original_frames[i],new_frames[i])))\n",
        "print(reconstruction_cost)\n"
      ]
    },
    {
      "cell_type": "code",
      "source": [
        "# Select a few random examples from the dataset.\n",
        "examples = val_dataset[np.random.choice(range(len(val_dataset)), size=5)]\n",
        "\n",
        "# Iterate over the examples and predict the frames.\n",
        "predicted_videos = []\n",
        "for example in examples:\n",
        "    # Pick the first/last ten frames from the example.\n",
        "    frames = example[:1, ...]\n",
        "    original_frames = example[1:, ...]\n",
        "    new_predictions = np.zeros(shape=(7, *frames[0].shape))\n",
        "\n",
        "    # Predict a new set of 10 frames.\n",
        "    for i in range(7):\n",
        "        # Extract the model's prediction and post-process it.\n",
        "        frames = example[: 1 + i + 1, ...]\n",
        "        new_prediction = model.predict(np.expand_dims(frames, axis=0))\n",
        "        new_prediction = np.squeeze(new_prediction, axis=0)\n",
        "        predicted_frame = np.expand_dims(new_prediction[-1, ...], axis=0)\n",
        "\n",
        "        # Extend the set of prediction frames.\n",
        "        new_predictions[i] = predicted_frame\n",
        "\n",
        "    # Create and save GIFs for each of the ground truth/prediction images.\n",
        "    for frame_set in [original_frames, new_predictions]:\n",
        "        # Construct a GIF from the selected video frames.\n",
        "        current_frames = np.squeeze(frame_set)\n",
        "        current_frames = current_frames[..., np.newaxis] * np.ones(3)\n",
        "        current_frames = (current_frames * 255).astype(np.uint8)\n",
        "        current_frames = list(current_frames)\n",
        "\n",
        "        # Construct a GIF from the frames.\n",
        "        with io.BytesIO() as gif:\n",
        "            imageio.mimsave(gif, current_frames, \"GIF\", fps=5)\n",
        "            predicted_videos.append(gif.getvalue())\n",
        "\n",
        "# Display the videos.\n",
        "print(\" Truth\\tPrediction\")\n",
        "for i in range(0, len(predicted_videos), 2):\n",
        "    # Construct and display an `HBox` with the ground truth and prediction.\n",
        "    box = HBox(\n",
        "        [\n",
        "            widgets.Image(value=predicted_videos[i]),\n",
        "            widgets.Image(value=predicted_videos[i + 1]),\n",
        "        ]\n",
        "    )\n",
        "    display(box)"
      ],
      "metadata": {
        "id": "mdoEEEcDh08M",
        "colab": {
          "base_uri": "https://localhost:8080/",
          "height": 194,
          "referenced_widgets": [
            "f2d1b35189904ff8845b23c1ff3c5b07",
            "9eab45afcdb44be780d6f39d782b62eb",
            "f936bface93a46428890932ef2842eda",
            "0087e13e56a84d5fb4f566cc7257b56c",
            "c41cc830e86d4ed0953f3f23cc220627",
            "c9f120e4425544fda51ef12c983fdfe2",
            "a75f9de44b774feda81175d0e05c77a6",
            "7be5c43172c24ecbb92f1279e0d9aa41",
            "3892b1bbdeec4b65a8c02e9fc6002a0f",
            "416a06413d014ef9994fe5fc2a2c9d4d",
            "c24e780f518c4fd5bc19dae1adb71e4f",
            "a9724a2bccce4a3fa2bd015700b7221b",
            "299c1f998f3741fdb7859beb18e86c59",
            "f6ddbbe235a549e0b9e94982c45ebdff",
            "06a0ba268ba8499587e990f035fed97b",
            "075f27e72900461b9ddf1fecd049563b",
            "a85fe31d51bb48e7959fe8f3ab642142",
            "dc43e1421ba149b59785bc6d89e2a8ac",
            "07cc21c4aafc464a913ce8fe087c7703",
            "1f55e37d2cf04388abd75971bbc72349",
            "a938d70acb6f423aafe51db42ba988d7",
            "9907dd9ee8bb42fcaff6c207efa56321",
            "c53d3c6795444e6586560f30606fbb1a",
            "c0a7869aedc640a384a63ba8f7b4685f",
            "78074bedab134b92b8b0a4d4efd12e40",
            "86bf9cf006464ff69ca048e5d3baca53",
            "53739b6447974f79aa7177c6bf1e5b3c",
            "9b78dfa036d548789b8f6048d1807dd1",
            "96ba024dd3d640218f2afce3dc766b1f",
            "55f3926ecd9b4a378ba220e3f8f08a5d"
          ]
        },
        "outputId": "de3367fc-7355-4333-c410-2efb41923187"
      },
      "execution_count": null,
      "outputs": [
        {
          "output_type": "stream",
          "name": "stdout",
          "text": [
            " Truth\tPrediction\n"
          ]
        },
        {
          "output_type": "display_data",
          "data": {
            "text/plain": [
              "HBox(children=(Image(value=b'GIF89a\\x1c\\x00\\x1c\\x00\\x87\\x00\\x00\\xff\\xff\\xff\\xfd\\xfd\\xfd\\xfc\\xfc\\xfc\\xee\\xee\\xe…"
            ],
            "application/vnd.jupyter.widget-view+json": {
              "version_major": 2,
              "version_minor": 0,
              "model_id": "f2d1b35189904ff8845b23c1ff3c5b07"
            }
          },
          "metadata": {}
        },
        {
          "output_type": "display_data",
          "data": {
            "text/plain": [
              "HBox(children=(Image(value=b\"GIF89a\\x1c\\x00\\x1c\\x00\\x87\\x00\\x00\\xfe\\xfe\\xfe\\xfb\\xfb\\xfb\\xf7\\xf7\\xf7\\xee\\xee\\xe…"
            ],
            "application/vnd.jupyter.widget-view+json": {
              "version_major": 2,
              "version_minor": 0,
              "model_id": "a75f9de44b774feda81175d0e05c77a6"
            }
          },
          "metadata": {}
        },
        {
          "output_type": "display_data",
          "data": {
            "text/plain": [
              "HBox(children=(Image(value=b'GIF89a\\x1c\\x00\\x1c\\x00\\x87\\x00\\x00\\xfd\\xfd\\xfd\\xfb\\xfb\\xfb\\xec\\xec\\xec\\xeb\\xeb\\xe…"
            ],
            "application/vnd.jupyter.widget-view+json": {
              "version_major": 2,
              "version_minor": 0,
              "model_id": "299c1f998f3741fdb7859beb18e86c59"
            }
          },
          "metadata": {}
        },
        {
          "output_type": "display_data",
          "data": {
            "text/plain": [
              "HBox(children=(Image(value=b'GIF89a\\x1c\\x00\\x1c\\x00\\x87\\x00\\x00\\xff\\xff\\xff\\xfd\\xfd\\xfd\\xfc\\xfc\\xfc\\xdd\\xdd\\xd…"
            ],
            "application/vnd.jupyter.widget-view+json": {
              "version_major": 2,
              "version_minor": 0,
              "model_id": "07cc21c4aafc464a913ce8fe087c7703"
            }
          },
          "metadata": {}
        },
        {
          "output_type": "display_data",
          "data": {
            "text/plain": [
              "HBox(children=(Image(value=b'GIF89a\\x1c\\x00\\x1c\\x00\\x87\\x00\\x00\\xfe\\xfe\\xfe\\xfd\\xfd\\xfd\\xfc\\xfc\\xfc\\xfa\\xfa\\xf…"
            ],
            "application/vnd.jupyter.widget-view+json": {
              "version_major": 2,
              "version_minor": 0,
              "model_id": "78074bedab134b92b8b0a4d4efd12e40"
            }
          },
          "metadata": {}
        }
      ]
    },
    {
      "cell_type": "code",
      "source": [
        "!cat /proc/meminfo"
      ],
      "metadata": {
        "id": "8aMonE4guQQk",
        "colab": {
          "base_uri": "https://localhost:8080/"
        },
        "outputId": "65445ba6-670c-4d08-8997-3b3c98def135"
      },
      "execution_count": null,
      "outputs": [
        {
          "output_type": "stream",
          "name": "stdout",
          "text": [
            "MemTotal:       13298580 kB\n",
            "MemFree:          164116 kB\n",
            "MemAvailable:    6546004 kB\n",
            "Buffers:           80224 kB\n",
            "Cached:          3694656 kB\n",
            "SwapCached:            0 kB\n",
            "Active:          8651944 kB\n",
            "Inactive:        4074284 kB\n",
            "Active(anon):    6139048 kB\n",
            "Inactive(anon):    14792 kB\n",
            "Active(file):    2512896 kB\n",
            "Inactive(file):  4059492 kB\n",
            "Unevictable:           0 kB\n",
            "Mlocked:               0 kB\n",
            "SwapTotal:             0 kB\n",
            "SwapFree:              0 kB\n",
            "Dirty:               800 kB\n",
            "Writeback:             0 kB\n",
            "AnonPages:       8951152 kB\n",
            "Mapped:          1693336 kB\n",
            "Shmem:             15556 kB\n",
            "KReclaimable:     101900 kB\n",
            "Slab:             165260 kB\n",
            "SReclaimable:     101900 kB\n",
            "SUnreclaim:        63360 kB\n",
            "KernelStack:        6432 kB\n",
            "PageTables:        42828 kB\n",
            "NFS_Unstable:          0 kB\n",
            "Bounce:                0 kB\n",
            "WritebackTmp:          0 kB\n",
            "CommitLimit:     6649288 kB\n",
            "Committed_AS:   11687000 kB\n",
            "VmallocTotal:   34359738367 kB\n",
            "VmallocUsed:       52608 kB\n",
            "VmallocChunk:          0 kB\n",
            "Percpu:             1520 kB\n",
            "AnonHugePages:   3352576 kB\n",
            "ShmemHugePages:        0 kB\n",
            "ShmemPmdMapped:        0 kB\n",
            "FileHugePages:         0 kB\n",
            "FilePmdMapped:         0 kB\n",
            "CmaTotal:              0 kB\n",
            "CmaFree:               0 kB\n",
            "HugePages_Total:       0\n",
            "HugePages_Free:        0\n",
            "HugePages_Rsvd:        0\n",
            "HugePages_Surp:        0\n",
            "Hugepagesize:       2048 kB\n",
            "Hugetlb:               0 kB\n",
            "DirectMap4k:      410432 kB\n",
            "DirectMap2M:    11120640 kB\n",
            "DirectMap1G:     4194304 kB\n"
          ]
        }
      ]
    },
    {
      "cell_type": "code",
      "source": [
        "!nvidia-smi -L"
      ],
      "metadata": {
        "colab": {
          "base_uri": "https://localhost:8080/"
        },
        "id": "t6McVk4Bt3rC",
        "outputId": "255605cc-d490-4fb0-fa0b-5eeab09438cb"
      },
      "execution_count": null,
      "outputs": [
        {
          "output_type": "stream",
          "name": "stdout",
          "text": [
            "GPU 0: Tesla T4 (UUID: GPU-74bcf6a7-29f0-3338-49d8-558d7c75afd2)\n"
          ]
        }
      ]
    },
    {
      "cell_type": "code",
      "source": [
        ""
      ],
      "metadata": {
        "id": "8BxdULE_uU8g"
      },
      "execution_count": null,
      "outputs": []
    }
  ]
}
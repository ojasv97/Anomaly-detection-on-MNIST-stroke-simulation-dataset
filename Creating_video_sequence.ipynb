{
  "nbformat": 4,
  "nbformat_minor": 0,
  "metadata": {
    "colab": {
      "name": "Creating video sequence.ipynb",
      "provenance": []
    },
    "kernelspec": {
      "name": "python3",
      "display_name": "Python 3"
    },
    "language_info": {
      "name": "python"
    }
  },
  "cells": [
    {
      "cell_type": "code",
      "execution_count": null,
      "metadata": {
        "id": "wHEqw9yZW0rw"
      },
      "outputs": [],
      "source": [
        "import numpy as np\n",
        "import pandas as pd\n",
        "import matplotlib.pyplot as plt\n",
        "import seaborn as sns\n",
        "from sklearn.metrics import confusion_matrix, classification_report\n",
        "import pickle\n",
        "from sklearn.cluster import KMeans\n",
        "import os"
      ]
    },
    {
      "cell_type": "code",
      "source": [
        "%matplotlib inline\n",
        "%config InlineBackend.figure_format = 'retina'\n",
        "mnist = pd.read_csv('/content/drive/My Drive/Dataset/mnist_train.csv')"
      ],
      "metadata": {
        "id": "HbSaHS0MW7CP"
      },
      "execution_count": null,
      "outputs": []
    },
    {
      "cell_type": "code",
      "source": [
        "with open(\"new_index\", \"rb\") as fp:\n",
        "    correct_indexes = pickle.load(fp)"
      ],
      "metadata": {
        "id": "TYR3FJ9CW9Ne"
      },
      "execution_count": null,
      "outputs": []
    },
    {
      "cell_type": "code",
      "source": [
        "print(len(correct_indexes))"
      ],
      "metadata": {
        "colab": {
          "base_uri": "https://localhost:8080/"
        },
        "id": "04fjF8_GeAyV",
        "outputId": "09741892-8bf2-4929-ea61-b82c5e567b8a"
      },
      "execution_count": null,
      "outputs": [
        {
          "output_type": "stream",
          "name": "stdout",
          "text": [
            "12638\n"
          ]
        }
      ]
    },
    {
      "cell_type": "code",
      "source": [
        "np.random.seed(1)\n",
        "mnist_correct = pd.DataFrame(columns=mnist.columns, dtype='int64')\n",
        "for i in correct_indexes:\n",
        "    mnist_correct = pd.concat([mnist_correct, mnist.iloc[i:i+1]], ignore_index=True)\n",
        "X = mnist_correct.drop(['label'], axis=1)\n",
        "y = mnist_correct.label\n",
        "print(X.shape)"
      ],
      "metadata": {
        "colab": {
          "base_uri": "https://localhost:8080/"
        },
        "id": "tf2DgB5RXU6U",
        "outputId": "633d6d23-8dc4-4631-c1b1-25a8591740d7"
      },
      "execution_count": null,
      "outputs": [
        {
          "output_type": "stream",
          "name": "stdout",
          "text": [
            "(12638, 784)\n"
          ]
        }
      ]
    },
    {
      "cell_type": "code",
      "source": [
        "features = X\n",
        "label = y"
      ],
      "metadata": {
        "id": "9EErTvoW71tg"
      },
      "execution_count": null,
      "outputs": []
    },
    {
      "cell_type": "code",
      "source": [
        "#Plot mnist image\n",
        "def plot_mnist(img, label=''):\n",
        "    plt.imshow(img.reshape((28,28)), cmap='gray')\n",
        "    plt.title(str(label))\n",
        "    plt.xticks([])\n",
        "    plt.yticks([])\n",
        "\n",
        "#Plot mnist in coordinate form\n",
        "def plot_coord(coord, marker='o', lim=(-1,29)):\n",
        "    plt.scatter(coord[:,0], coord[:,1], marker=marker)\n",
        "    plt.xlim(lim)\n",
        "    plt.ylim(lim)\n",
        "    plt.xticks([])\n",
        "    plt.yticks([])\n",
        "\n",
        "import numpy as np\n",
        "import pandas as pd\n",
        "import matplotlib.pyplot as plt\n",
        "import seaborn as sns\n",
        "from sklearn.cluster import KMeans\n",
        "from sympy.utilities.iterables import multiset_permutations\n",
        "\n",
        "perm = np.array(list(multiset_permutations(range(8))))\n",
        "\n",
        "thld = np.array([70,110,100,110,50,80,100,60,100,70])\n",
        "#                0   1   2   3  4  5   6  7   8  9\n",
        "\n",
        "def img2coord(img, scale = 28, pixval_min=0):\n",
        "    r, c = np.where(img.reshape((28,28))>pixval_min)\n",
        "    x_coor, y_coor = (c.astype('int64'), (28-r).astype('int64'))\n",
        "    xycoors = np.concatenate((x_coor.reshape(-1,1), y_coor.reshape(-1,1)), axis=1)\n",
        "    return xycoors\n",
        "\n",
        "def mnist2clusters(img, pixval_min=0, scale=28):\n",
        "    xycoors = img2coord(img, scale=scale, pixval_min=pixval_min)\n",
        "    kmeans = KMeans(n_clusters=8)\n",
        "    kmeans.fit(xycoors)\n",
        "    return kmeans, xycoors\n",
        "\n",
        "def plot_clusters(kmeans, xycoors, marker='o', lim=(-1,29)):\n",
        "    pred = kmeans.predict(xycoors)\n",
        "    plt.scatter(xycoors[:,0], xycoors[:,1], c=pred, cmap='Dark2', marker=marker)\n",
        "    plt.scatter(kmeans.cluster_centers_[:,0], kmeans.cluster_centers_[:,1], marker='*',color='k')\n",
        "    plt.xlim(lim)\n",
        "    plt.ylim(lim)\n",
        "    plt.xticks([])\n",
        "    plt.yticks([])\n",
        "\n",
        "def calculateCentroid():\n",
        "    if os.path.isfile(\"centroids.npy\"):\n",
        "        centroids = np.load(\"centroids.npy\")\n",
        "        return centroids\n",
        "    average_mnist = mnist.groupby('label').mean().astype('int64').values\n",
        "    centroids=np.zeros((10,8,2))\n",
        "    r, c = 2, 5\n",
        "    plt.figure(figsize=(15,6))\n",
        "    for i in range(r*c):\n",
        "        plt.subplot(r,c,i+1)\n",
        "        img= average_mnist[i]\n",
        "        img[img<thld[i]] = 0\n",
        "        plot_mnist(img)\n",
        "    plt.show()\n",
        "    plt.figure(figsize=(15,6))\n",
        "    for i in range(r*c):\n",
        "        plt.subplot(r,c,i+1)\n",
        "        img= average_mnist[i]\n",
        "        img[img<thld[i]] = 0\n",
        "        kmt,xy = mnist2clusters(img, pixval_min=thld[i])\n",
        "        plot_clusters(kmt,xy)\n",
        "        centroids[i] = kmt.cluster_centers_\n",
        "    np.save(\"centroids.npy\", centroids)\n",
        "    return centroids\n",
        "\n",
        "order=np.array([[4,1,6,3,2,5,7,0],#0\n",
        "                [7,2,5,0,3,4,1,6],#1\n",
        "                [5,1,6,3,2,4,7,0],#2\n",
        "                [2,5,0,6,7,3,4,1],#3\n",
        "                [7,5,0,2,1,3,4,6],#4\n",
        "                [4,0,5,6,3,1,2,7],#5\n",
        "                [7,1,3,0,4,2,5,6],#6\n",
        "                [2,7,1,5,4,6,0,3],#7\n",
        "                [4,0,7,1,5,3,6,2],#8\n",
        "                [4,3,6,2,5,0,1,7]])#9\n",
        "\n",
        "\n",
        "def plot_mnist(img, label=''):\n",
        "    plt.imshow(img.reshape((28,28)), cmap='gray')\n",
        "    plt.title(str(label))\n",
        "    plt.xticks([])\n",
        "    plt.yticks([])\n",
        "\n",
        "def plot_coord(coord, marker='o', lim=(-1,29)):\n",
        "    plt.scatter(coord[:,0], coord[:,1], marker=marker)\n",
        "    plt.xlim(lim)\n",
        "    plt.ylim(lim)\n",
        "    plt.xticks([])\n",
        "    plt.yticks([])\n",
        "\n",
        "def mse(c1, c2):\n",
        "    return np.mean((c1-c2)**2)\n",
        "\n",
        "def mse_centroids(centroid_indx, tmplt, centroids):\n",
        "    return mse(tmplt, centroids[perm[centroid_indx]])\n",
        "\n",
        "def minimize(tmplt, centroids):\n",
        "    mse_val = [mse_centroids(i, tmplt, centroids) for i in range(len(perm))]\n",
        "    return centroids[perm[np.argmin(mse_val)]], np.min(mse_val)\n",
        "\n",
        "def feature_extractor(img, label, centroids, return_clusters=False):\n",
        "    tmplt = centroids[label][order[label]]\n",
        "    km, xy = mnist2clusters(img, pixval_min=thld[label])\n",
        "    points8, _ = minimize(tmplt, km.cluster_centers_.astype('float64'))\n",
        "    if return_clusters:\n",
        "        return points8, km, xy\n",
        "    return points8\n",
        "\n",
        "def form_clusters(points8, xy):\n",
        "    clusters = [[] for i in range(8)]\n",
        "    for i in range(len(xy)):\n",
        "        mse_val = [mse(xy[i], points8[j]) for j in range(len(points8))]\n",
        "        ind = np.argmin(mse_val)\n",
        "        clusters[ind].append(xy[i])\n",
        "    for i in range(1,len(clusters)):\n",
        "        clusters[i].extend(clusters[i-1])\n",
        "    clusters = np.array(clusters,dtype=\"object\")\n",
        "    return clusters\n",
        "\n",
        "def plot_embeddings(coord, word2Ind, words, marker = '--o', c = 'tab:blue', lim = (-1,29)):\n",
        "    \"\"\" \n",
        "        Plot in a scatterplot the embeddings of the words specified in the list \"words\".\n",
        "        Include a label next to each point.\n",
        "    \"\"\"\n",
        "    word2Ind = list(word2Ind)\n",
        "    for word in words:\n",
        "        x, y = coord[word2Ind[word]]\n",
        "        plt.text(x+.03, y+.03, word, fontsize=11)\n",
        "\n",
        "def plot_exfeatures(coord, i, marker='--o', c='tab:blue',lim=(-1,29)):\n",
        "    n = [0,1,2,3,4,5,6,7]\n",
        "    l = {key: i for i, key in enumerate(n)}\n",
        "    tmplt = centroids[i][order[i]]\n",
        "    plot_embeddings(tmplt,l,n)\n",
        "    plt.plot(coord[:,0],coord[:,1], marker, color=c)\n",
        "    plt.scatter(coord[0,0],coord[0,1], marker='s', color=c)\n",
        "    plt.xlim(lim)\n",
        "    plt.ylim(lim)\n",
        "    plt.xticks([])\n",
        "    plt.yticks([])\n",
        "\n",
        "def get_boundary(coord):\n",
        "    xmin = coord[:,0].min()\n",
        "    xmax = coord[:,0].max()\n",
        "    ymin = coord[:,1].min()\n",
        "    ymax = coord[:,1].max()\n",
        "    return xmin,ymin,xmax,ymax\n",
        "\n",
        "def scale_centroid(coord):\n",
        "    xmin,ymin,xmax,ymax = get_boundary(coord)\n",
        "    x_o = (xmax + xmin)/2\n",
        "    y_o = (ymax + ymin)/2\n",
        "    coord = coord - [x_o,y_o]\n",
        "    sc = 28/100\n",
        "    coord *= sc\n",
        "    coord += 14\n",
        "    return coord.astype('int64')\n",
        "\n",
        "def scale(coord):\n",
        "    xmin,ymin,xmax,ymax = get_boundary(coord)\n",
        "    x_o = (xmax + xmin)/2\n",
        "    y_o = (ymax + ymin)/2\n",
        "    coord = coord - [x_o,y_o]\n",
        "    sc = 28/max(xmax-xmin, ymax-ymin)\n",
        "    coord *= sc\n",
        "    coord += 14\n",
        "    return coord.astype('int64')\n",
        "\n",
        "def coord2img(xy, feat, ind):\n",
        "    zero_data = np.zeros(shape=(1,feat.shape[1]))\n",
        "    d = pd.DataFrame(zero_data, columns=feat.columns)\n",
        "    d = np.array(d.values).reshape((28,28))\n",
        "    e = pd.DataFrame(zero_data, columns=feat.columns)\n",
        "    e = np.array(e.values).reshape((28,28))\n",
        "    img = np.array(features.iloc[ind].values).reshape((28,28))\n",
        "    for a,b in xy:\n",
        "        d[b][a] = img[28-b][a]\n",
        "        e[28-b][a] = img[28-b][a]\n",
        "    return d,e\n",
        "\n",
        "def plot_seq(kms, clusters, ind, marker='o', lim=(-1,29)):\n",
        "    plt.figure(figsize=(12,6))\n",
        "    images = np.empty((0,28,28), int)\n",
        "    for i in range(len(clusters)):\n",
        "        plt.subplot(1,8,i+1)\n",
        "        xy = np.array(clusters[i])\n",
        "        j,k= coord2img(xy, features, ind)\n",
        "        images = np.append(images, np.array([k]), axis=0)\n",
        "        plot_mnist(j)\n",
        "        plt.xlim(lim)\n",
        "        plt.ylim(lim)\n",
        "        plt.xticks([])\n",
        "        plt.yticks([])\n",
        "    return images\n",
        "def generate_dataset(kms, clusters, ind):\n",
        "    images = np.empty((0,28,28), int)\n",
        "    for i in range(len(clusters)):\n",
        "        xy = np.array(clusters[i])\n",
        "        j,k= coord2img(xy, features, ind)\n",
        "        images = np.append(images, np.array([k]), axis=0)\n",
        "    return images"
      ],
      "metadata": {
        "id": "Uyp00R4xXKos"
      },
      "execution_count": null,
      "outputs": []
    },
    {
      "cell_type": "code",
      "source": [
        "centroids = calculateCentroid()"
      ],
      "metadata": {
        "id": "2n6dwKfYlN93"
      },
      "execution_count": null,
      "outputs": []
    },
    {
      "cell_type": "code",
      "source": [
        "np.random.seed(0)\n",
        "indx=301\n",
        "plt.figure(figsize=(15,5))\n",
        "# plt.subplot(1,3,1)\n",
        "# plot_mnist(features.iloc[indx].values)\n",
        "pts, kms, xys = feature_extractor(features.iloc[indx].values, label[indx], centroids, return_clusters=True)\n",
        "clusters = form_clusters(pts,xys)\n",
        "# plt.subplot(1,3,2)\n",
        "# plot_clusters(kms, xys)\n",
        "# plt.subplot(1,3,3)\n",
        "# plot_exfeatures(pts, y[indx])\n",
        "images = plot_seq(kms, clusters, indx)\n",
        "plt.show()"
      ],
      "metadata": {
        "colab": {
          "base_uri": "https://localhost:8080/",
          "height": 123
        },
        "id": "IIvrNAWmay_Q",
        "outputId": "b35273c8-0ee9-4131-abfb-a3173ea6bd2d"
      },
      "execution_count": null,
      "outputs": [
        {
          "output_type": "display_data",
          "data": {
            "text/plain": [
              "<Figure size 1080x360 with 0 Axes>"
            ]
          },
          "metadata": {}
        },
        {
          "output_type": "display_data",
          "data": {
            "text/plain": [
              "<Figure size 864x432 with 8 Axes>"
            ],
            "image/png": "[encoded data removed]"
          },
          "metadata": {
            "image/png": {
              "width": 687,
              "height": 89
            }
          }
        }
      ]
    },
    {
      "cell_type": "code",
      "source": [
        "import random\n",
        "for i in range(10):\n",
        "    if(i==6):\n",
        "        indx = (label[label==i].index)[1]\n",
        "    else:\n",
        "        indx = (label[label==i].index)[16]\n",
        "    pts, kms, xys = feature_extractor(features.iloc[indx].values, label[indx], centroids, return_clusters=True)\n",
        "    clusters = form_clusters(pts,xys)\n",
        "    images = plot_seq(kms, clusters, indx)\n",
        "    plt.show()"
      ],
      "metadata": {
        "colab": {
          "base_uri": "https://localhost:8080/",
          "height": 907
        },
        "id": "ikhG7zC8gk4x",
        "outputId": "e273dd50-fcd8-489b-d07b-aaf83601ab46"
      },
      "execution_count": null,
      "outputs": [
        {
          "output_type": "display_data",
          "data": {
            "text/plain": [
              "<Figure size 864x432 with 8 Axes>"
            ],
            "image/png": "[encoded data removed]"
          },
          "metadata": {
            "image/png": {
              "width": 687,
              "height": 89
            }
          }
        },
        {
          "output_type": "display_data",
          "data": {
            "text/plain": [
              "<Figure size 864x432 with 8 Axes>"
            ],
            "image/png": "[encoded data removed]"
          },
          "metadata": {
            "image/png": {
              "width": 687,
              "height": 89
            }
          }
        },
        {
          "output_type": "display_data",
          "data": {
            "text/plain": [
              "<Figure size 864x432 with 8 Axes>"
            ],
            "image/png": "[encoded data removed]"
          },
          "metadata": {
            "image/png": {
              "width": 687,
              "height": 89
            }
          }
        },
        {
          "output_type": "display_data",
          "data": {
            "text/plain": [
              "<Figure size 864x432 with 8 Axes>"
            ],
            "image/png": "[encoded data removed]"
          },
          "metadata": {
            "image/png": {
              "width": 687,
              "height": 89
            }
          }
        },
        {
          "output_type": "display_data",
          "data": {
            "text/plain": [
              "<Figure size 864x432 with 8 Axes>"
            ],
            "image/png": "[encoded data removed]"
          },
          "metadata": {
            "image/png": {
              "width": 687,
              "height": 89
            }
          }
        },
        {
          "output_type": "display_data",
          "data": {
            "text/plain": [
              "<Figure size 864x432 with 8 Axes>"
            ],
            "image/png": "[encoded data removed]"
          },
          "metadata": {
            "image/png": {
              "width": 687,
              "height": 89
            }
          }
        },
        {
          "output_type": "display_data",
          "data": {
            "text/plain": [
              "<Figure size 864x432 with 8 Axes>"
            ],
            "image/png": "[encoded data removed]"
          },
          "metadata": {
            "image/png": {
              "width": 687,
              "height": 89
            }
          }
        },
        {
          "output_type": "display_data",
          "data": {
            "text/plain": [
              "<Figure size 864x432 with 8 Axes>"
            ],
            "image/png": "[encoded data removed]"
          },
          "metadata": {
            "image/png": {
              "width": 687,
              "height": 89
            }
          }
        },
        {
          "output_type": "display_data",
          "data": {
            "text/plain": [
              "<Figure size 864x432 with 8 Axes>"
            ],
            "image/png": "[encoded data removed]"
          },
          "metadata": {
            "image/png": {
              "width": 687,
              "height": 89
            }
          }
        },
        {
          "output_type": "display_data",
          "data": {
            "text/plain": [
              "<Figure size 864x432 with 8 Axes>"
            ],
            "image/png": "[encoded data removed]"
          },
          "metadata": {
            "image/png": {
              "width": 687,
              "height": 89
            }
          }
        }
      ]
    },
    {
      "cell_type": "code",
      "source": [
        "#Generate video seq\n",
        "\n",
        "import numpy as np\n",
        "import cv2\n",
        "import os\n",
        " \n",
        "width = 28\n",
        "height = 28\n",
        "channel = 1\n",
        " \n",
        "fps = 2\n",
        "sec = 4\n",
        "\n",
        "fourcc = cv2.VideoWriter_fourcc(*'mp4v') # FourCC is a 4-byte code used to specify the video codec.\n",
        "# A video codec is software or hardware that compresses and decompresses digital video. \n",
        "# In the context of video compression, codec is a portmanteau of encoder and decoder, \n",
        "# while a device that only compresses is typically called an encoder, and one that only \n",
        "# decompresses is a decoder. Source - Wikipedia\n",
        " \n",
        "#Syntax: cv2.VideoWriter( filename, fourcc, fps, frameSize )\n",
        "\n",
        "\n",
        "for i in range(len(features)):\n",
        "    video = cv2.VideoWriter(\"test\"+str(i)+\".mp4\", fourcc, float(fps), (width, height),0)\n",
        "    pts, kms, xys = feature_extractor(features.iloc[i].values, label[i], centroids, return_clusters=True)\n",
        "    images = plot_seq(kms, clusters, i)\n",
        "    for frame_count in range(fps*sec):\n",
        "        img = np.array(images[frame_count], 'uint8')\n",
        "        video.write(img)\n",
        "    video.release()"
      ],
      "metadata": {
        "id": "_wVj063JbH5t"
      },
      "execution_count": null,
      "outputs": []
    },
    {
      "cell_type": "code",
      "source": [
        ""
      ],
      "metadata": {
        "id": "OOgDX1w5q2rQ"
      },
      "execution_count": null,
      "outputs": []
    }
  ]
}